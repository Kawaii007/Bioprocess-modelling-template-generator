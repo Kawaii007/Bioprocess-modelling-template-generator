{
 "cells": [
  {
   "cell_type": "markdown",
   "id": "127fb34e",
   "metadata": {},
   "source": [
    "# Model: Model for Overflow of Xu et al. 1999"
   ]
  },
  {
   "cell_type": "markdown",
   "id": "4a874e3b",
   "metadata": {},
   "source": [
    "###### This file has been automatically generated with the Template Generator\n",
    "###### Here is the link to the GitHub repository: https://git.tu-berlin.de/bvt-htbd/modelling/e-coli-model-overview/\n",
    "###### Version 1.7.2 from 30.09.25 Matteo Di Fiore, New Feature: Better log messages\n",
    "###### Name of the Paper: Xu et al. - 1999 - Modeling of Overflow Metabolism in Batch and Fed-Batch Cultures of Escherichia coli\n",
    "###### DOI: 10.1021/bp9801087\n",
    "###### Description and assumptions: This is the model for overflow metabolism of E. coli as described in the paper of Xu et al. 1999. The model includes substrate uptake, acetate production and consumption, oxygen uptake, and biomass growth. The model is based on Monod kinetics with inhibition terms for acetate and oxygen. The model can simulate both batch and fed-batch cultures, with the option to include a feeding strategy based on substrate concentration. The model also includes a maintenance term for biomass growth. The model runs with if clauses to see if acetate is produced or consumed.\n",
    "###### Goal of Simulation: Recreate the results of the paper and provide a basis for further model extensions.\n",
    "###### Created on 2025 Jul Wed\n",
    "###### Updated on 30.09.2025\n",
    "###### @authors: Matteo Di Fiore"
   ]
  },
  {
   "cell_type": "code",
   "id": "49ed978c",
   "metadata": {
    "ExecuteTime": {
     "end_time": "2025-10-09T14:31:04.102451Z",
     "start_time": "2025-10-09T14:30:44.387160Z"
    }
   },
   "source": [
    "# Used packages\n",
    "import numpy as np                                         # Numerical computing, arrays, linear algebra\n",
    "from scipy.integrate import odeint                         # ODE solver for integrating differential equations\n",
    "from math import exp                                       # Exponential function (for kinetics and growth rates)\n",
    "import class_plot as cplt                                  # Custom plotting class (data visualization)\n",
    "import class_fedbatch as cfb                               # Custom fed-batch model class (feeding & pulse logic)\n",
    "import class_allthedata as catd                            # Custom all-the-data model class (dictionary creation)\n",
    "from markdown_generation import generate_markdown_table    # Custom markdown generation function\n",
    "from IPython.display import Markdown                       # Display formatted Markdown in Jupyter notebooks\n",
    "import os                                                  # System coding (to save folders)"
   ],
   "outputs": [],
   "execution_count": 1
  },
  {
   "cell_type": "code",
   "id": "80ffcb0d-cb57-4364-81e8-39d0056e8d82",
   "metadata": {
    "ExecuteTime": {
     "end_time": "2025-10-09T14:31:04.144829Z",
     "start_time": "2025-10-09T14:31:04.111708Z"
    }
   },
   "source": [
    "# Time variables\n",
    "t0 = 0.0 # initial time of simulation in h\n",
    "dt = 0.01 # steps of simulation in h\n",
    "t_end = 15 # change if you want, this is the time of the end of simulation in h\n",
    "t_constant_feed = 14 # change if you want, this is the time of the beginning of continuos feeding in h\n",
    "t_fedbatch_start = 6 # change if you want, this is the time of the beginning of fedbatch in h\n",
    "t = np.linspace(t0, t_end, int(t_end/dt)+1)"
   ],
   "outputs": [],
   "execution_count": 2
  },
  {
   "cell_type": "code",
   "id": "fdeee4c1-8fc0-415d-8dd0-ed6d40f71bbe",
   "metadata": {
    "ExecuteTime": {
     "end_time": "2025-10-09T14:31:04.173435Z",
     "start_time": "2025-10-09T14:31:04.161625Z"
    }
   },
   "source": [
    "# Feed options\n",
    "\n",
    "# this value decides when the feeding starts based on the remaining Substrate\n",
    "substrate_limit_fedbatch = 0.00001    # this value is in (g/L) change the value if you want\n",
    "\n",
    "# initializing the feeding class\n",
    "# you can call the feeding class with t_fedbatch_start, substrate_limit_fedbatch, t_constant_feed and any combination of them\n",
    "# just remember that if you use both t_fedbatch_start and substrate_limit_fedbatch the feeding will start when the t_fedbatch_start is reached\n",
    "# if you want a fedbatch (with the feed start happening at t_fedbatch) it should be like this: feed = cfb.Feed(t_fedbatch_start = t_fedbatch_start), just remember to define t_fedbatch_start with a number\n",
    "# if you want a fedbatch (with the feed start happening at substrate_limit_fedbatch) it should be like this: feed = cfb.Feed(substrate_limit = substrate_limit_fedbatch), just remember to attribute a number to substrate_limit_fedbatch (you can find it at the button of this code block)\n",
    "# if you want a fedbatch (with the feed start happening at t_fedbatch or substrate_limit_fedbatch) and a constant feed it should be like this: feed = cfb.Feed(t_const = t_constant_feed, t_fedbatch_start = t_fedbatch_start) or feed = cfb.Feed(t_const = t_constant_feed, substrate_limit = substrate_limit_fedbatch) , just remember to define teh variables with a number\n",
    "feed = cfb.Feed(t_const = t_constant_feed, substrate_limit = substrate_limit_fedbatch) # write here the variable which determine how you feed. In this case it is a batch simulation"
   ],
   "outputs": [],
   "execution_count": 3
  },
  {
   "cell_type": "code",
   "id": "a11647c3-4b2f-4e2b-b076-72e9508bb335",
   "metadata": {
    "ExecuteTime": {
     "end_time": "2025-10-09T14:31:04.186481Z",
     "start_time": "2025-10-09T14:31:04.175245Z"
    }
   },
   "source": [
    "#change to false if you want the units to be g/(g h)\n",
    "q_o_unit_mmol = True"
   ],
   "outputs": [],
   "execution_count": 4
  },
  {
   "cell_type": "code",
   "id": "93bfab20",
   "metadata": {
    "ExecuteTime": {
     "end_time": "2025-10-09T14:31:04.200192Z",
     "start_time": "2025-10-09T14:31:04.194586Z"
    }
   },
   "source": [
    "variables = dict(\n",
    "    Biomass = dict(\n",
    "        description = 'Biomass',\n",
    "        unit = '[g/L]',\n",
    "        initial_value = 0.1,\n",
    "        boundaries = [None, None],\n",
    "        estimable = None,\n",
    "        weight = None,\n",
    "        plotting = {'plot': None, 'range_fedbatch': None},\n",
    "        volume_related = None,\n",
    "        conversion_factor = None),\n",
    "    Substrate = dict(\n",
    "        description = 'Substrate',\n",
    "        unit = '[g/L]',\n",
    "        initial_value = 13.86,\n",
    "        boundaries = [None, None],\n",
    "        estimable = None,\n",
    "        weight = None,\n",
    "        plotting = {'plot': None, 'range_fedbatch': None},\n",
    "        volume_related = None,\n",
    "        conversion_factor = None),\n",
    "    Acetate = dict(\n",
    "        description = 'Acetate',\n",
    "        unit = '[g/L]',\n",
    "        initial_value = 0,\n",
    "        boundaries = [None, None],\n",
    "        estimable = None,\n",
    "        weight = None,\n",
    "        plotting = {'plot': None, 'range_fedbatch': None},\n",
    "        volume_related = None,\n",
    "        conversion_factor = None),\n",
    "    Volume = dict(\n",
    "        description = 'Volume',\n",
    "        unit = '[L]',\n",
    "        initial_value = 7,\n",
    "        boundaries = [None, None],\n",
    "        estimable = None,\n",
    "        weight = None,\n",
    "        plotting = {'plot': None, 'range_fedbatch': None},\n",
    "        volume_related = None,\n",
    "        conversion_factor = None),\n",
    ")"
   ],
   "outputs": [],
   "execution_count": 5
  },
  {
   "cell_type": "code",
   "id": "4b319713-3a62-4121-abbb-dd9538bd7cf5",
   "metadata": {
    "ExecuteTime": {
     "end_time": "2025-10-09T14:31:04.220072Z",
     "start_time": "2025-10-09T14:31:04.206821Z"
    }
   },
   "source": [
    "# For the Variables\n",
    "md_output = generate_markdown_table(variables, 'Variables')\n",
    "# Display in Jupyter\n",
    "Markdown(md_output)"
   ],
   "outputs": [
    {
     "data": {
      "text/plain": [
       "<IPython.core.display.Markdown object>"
      ],
      "text/markdown": "## Variables\n\n| name | Lower boundary | Upper boundary | conversion_factor | description | estimable | initial_value | unit | volume_related | weight |\n| --- | --- | --- | --- | --- | --- | --- | --- | --- | --- |\n| Biomass | None | None | None | Biomass | None | 0.1 | [g/L] | None | None |\n| Substrate | None | None | None | Substrate | None | 13.86 | [g/L] | None | None |\n| Acetate | None | None | None | Acetate | None | 0 | [g/L] | None | None |\n| Volume | None | None | None | Volume | None | 7 | [L] | None | None |\n\n## Variables - plotting specs\n\n| Name | plot | range_fedbatch |\n| --- | --- | --- |\n| Biomass | None | None |\n| Substrate | None | None |\n| Acetate | None | None |\n| Volume | None | None |\n"
     },
     "execution_count": 6,
     "metadata": {},
     "output_type": "execute_result"
    }
   ],
   "execution_count": 6
  },
  {
   "cell_type": "code",
   "id": "132ca3e0",
   "metadata": {
    "ExecuteTime": {
     "end_time": "2025-10-09T14:31:04.258568Z",
     "start_time": "2025-10-09T14:31:04.253021Z"
    }
   },
   "source": [
    "inputs = dict(\n",
    "    Feed = dict(\n",
    "        description = 'Feed',\n",
    "        unit = '[L]',\n",
    "        concentration = 520,\n",
    "        plotting = {'plot': None, 'stem': None, 'range': [None, None]}),\n",
    ")"
   ],
   "outputs": [],
   "execution_count": 7
  },
  {
   "cell_type": "code",
   "id": "61c3b72a-92ab-4437-b501-fbf002381456",
   "metadata": {
    "ExecuteTime": {
     "end_time": "2025-10-09T14:31:04.276573Z",
     "start_time": "2025-10-09T14:31:04.270573Z"
    }
   },
   "source": [
    "# For the Inputs\n",
    "md_output = generate_markdown_table(inputs, 'Inputs')\n",
    "# Display in Jupyter\n",
    "Markdown(md_output)"
   ],
   "outputs": [
    {
     "data": {
      "text/plain": [
       "<IPython.core.display.Markdown object>"
      ],
      "text/markdown": "## Inputs\n\n| name | concentration | description | unit |\n| --- | --- | --- | --- |\n| Feed | 520 | Feed | [L] |\n\n## Inputs - plotting specs\n\n| Name | plot | range | stem |\n| --- | --- | --- | --- |\n| Feed | None | [None, None] | None |\n"
     },
     "execution_count": 8,
     "metadata": {},
     "output_type": "execute_result"
    }
   ],
   "execution_count": 8
  },
  {
   "cell_type": "code",
   "id": "d7a7e6b7",
   "metadata": {
    "ExecuteTime": {
     "end_time": "2025-10-09T14:31:04.302861Z",
     "start_time": "2025-10-09T14:31:04.297539Z"
    }
   },
   "source": [
    "parameters = dict(\n",
    ")"
   ],
   "outputs": [],
   "execution_count": 9
  },
  {
   "cell_type": "code",
   "id": "4d68bf36",
   "metadata": {
    "ExecuteTime": {
     "end_time": "2025-10-09T14:31:04.318936Z",
     "start_time": "2025-10-09T14:31:04.311425Z"
    }
   },
   "source": [
    "constants = dict(\n",
    "    q_s_max = dict(value = 1.3, unit = '[g/(g*h)]', description = 'Maximum substrate uptake rate'),\n",
    "    q_o_max_mmol = dict(value = 15.6, unit = '[mmol/(g*h)]', description = 'Maximum oxygen uptake rate in mmol'),\n",
    "    molar_mass_O2 = dict(value = 32, unit = '[g/mol]', description = 'Molar mass of oxygen'),\n",
    "    q_o_max = dict(value = 0.4992, unit = '[g/(g*h)]', description = 'Maximum oxygen uptake rate'),\n",
    "    q_a_c_max_b = dict(value = 0.06, unit = '[g/(g*h)]', description = 'Maximum acetate consumption rate (batch)'),\n",
    "    q_a_c_max_f = dict(value = 0.15, unit = '[g/(g*h)]', description = 'Maximum acetate consumption rate (fed-batch)'),\n",
    "    K_s = dict(value = 0.05, unit = '[g/L]', description = 'Substrate affinity constant'),\n",
    "    K_a = dict(value = 0.05, unit = '[g/L]', description = 'Acetate inhibition constant'),\n",
    "    K_io = dict(value = 4, unit = '[g/L]', description = 'Oxygen inhibition constant'),\n",
    "    K_is = dict(value = 5, unit = '[g/L]', description = 'Substrate inhibition constant'),\n",
    "    Y_xs_ox = dict(value = 0.51, unit = '[g/g]', description = 'Oxidative biomass yield on substrate'),\n",
    "    Y_xs_of = dict(value = 0.15, unit = '[g/g]', description = 'Overflow biomass yield on substrate'),\n",
    "    Y_xa = dict(value = 0.4, unit = '[g/g]', description = 'Acetate yield on biomass'),\n",
    "    Y_os = dict(value = 1.067, unit = '[g/g]', description = 'Oxygen yield on substrate'),\n",
    "    Y_oa = dict(value = 1.067, unit = '[g/g]', description = 'Oxygen yield on acetate'),\n",
    "    Y_as = dict(value = 0.667, unit = '[g/g]', description = 'Acetate yield on substrate'),\n",
    "    q_m = dict(value = 0.04, unit = '[g/(g*h)]', description = 'Maintenance rate'),\n",
    "    C_s = dict(value = 1/30, unit = '[mol C/g]', description = 'Carbon content in substrate'),\n",
    "    C_a = dict(value = 1/30, unit = '[mol C/g]', description = 'Carbon content in acetate'),\n",
    "    C_x = dict(value = 0.04, unit = '[mol C/g]', description = 'Carbon content in biomass'),\n",
    "    mu_set = dict(value = 0.3, unit = '[1/h]', description = 'Set specific growth rate'),\n",
    "    G = dict(value = 1.1, unit = '[-]', description = 'Stoichiometric coefficient'),\n",
    ")\n"
   ],
   "outputs": [],
   "execution_count": 10
  },
  {
   "cell_type": "code",
   "id": "b4e1c61f-1684-4ec9-9386-a69e6b83172e",
   "metadata": {
    "ExecuteTime": {
     "end_time": "2025-10-09T14:31:04.334049Z",
     "start_time": "2025-10-09T14:31:04.329209Z"
    }
   },
   "source": [
    "# For the Constants\n",
    "md_output = generate_markdown_table(constants, 'Constants')\n",
    "# Display in Jupyter\n",
    "Markdown(md_output)"
   ],
   "outputs": [
    {
     "data": {
      "text/plain": [
       "<IPython.core.display.Markdown object>"
      ],
      "text/markdown": "## Constants\n\n| name | description | unit | value |\n| --- | --- | --- | --- |\n| q_s_max | Maximum substrate uptake rate | [g/(g*h)] | 1.3 |\n| q_o_max_mmol | Maximum oxygen uptake rate in mmol | [mmol/(g*h)] | 15.6 |\n| molar_mass_O2 | Molar mass of oxygen | [g/mol] | 32 |\n| q_o_max | Maximum oxygen uptake rate | [g/(g*h)] | 0.4992 |\n| q_a_c_max_b | Maximum acetate consumption rate (batch) | [g/(g*h)] | 0.06 |\n| q_a_c_max_f | Maximum acetate consumption rate (fed-batch) | [g/(g*h)] | 0.15 |\n| K_s | Substrate affinity constant | [g/L] | 0.05 |\n| K_a | Acetate inhibition constant | [g/L] | 0.05 |\n| K_io | Oxygen inhibition constant | [g/L] | 4 |\n| K_is | Substrate inhibition constant | [g/L] | 5 |\n| Y_xs_ox | Oxidative biomass yield on substrate | [g/g] | 0.51 |\n| Y_xs_of | Overflow biomass yield on substrate | [g/g] | 0.15 |\n| Y_xa | Acetate yield on biomass | [g/g] | 0.4 |\n| Y_os | Oxygen yield on substrate | [g/g] | 1.067 |\n| Y_oa | Oxygen yield on acetate | [g/g] | 1.067 |\n| Y_as | Acetate yield on substrate | [g/g] | 0.667 |\n| q_m | Maintenance rate | [g/(g*h)] | 0.04 |\n| C_s | Carbon content in substrate | [mol C/g] | 0.03333333333333333 |\n| C_a | Carbon content in acetate | [mol C/g] | 0.03333333333333333 |\n| C_x | Carbon content in biomass | [mol C/g] | 0.04 |\n| mu_set | Set specific growth rate | [1/h] | 0.3 |\n| G | Stoichiometric coefficient | [-] | 1.1 |\n"
     },
     "execution_count": 11,
     "metadata": {},
     "output_type": "execute_result"
    }
   ],
   "execution_count": 11
  },
  {
   "cell_type": "code",
   "id": "89366d06",
   "metadata": {
    "ExecuteTime": {
     "end_time": "2025-10-09T14:31:04.352435Z",
     "start_time": "2025-10-09T14:31:04.346710Z"
    }
   },
   "source": [
    "rates = dict(\n",
    "    q_s=dict(unit='[g/g/h]', description='Specific glucose uptake rate (Monod + acetate inhibition)'),\n",
    "    q_s_ox=dict(unit='[g/g/h]', description='Total glucose uptake rate into oxidative metabolism'),\n",
    "    q_s_ox_an=dict(unit='[g/g/h]', description='Glucose uptake rate for anabolic part of oxidative metabolism'),\n",
    "    q_s_ox_en=dict(unit='[g/g/h]', description='Glucose uptake rate for energetic part of oxidative metabolism'),\n",
    "    q_o_s=dict(unit='[g/g/h]', description='Oxygen uptake rate from glucose oxidation'),\n",
    "    q_s_of=dict(unit='[g/g/h]', description='Glucose uptake rate for overflow metabolism'),\n",
    "    q_s_of_an=dict(unit='[g/g/h]', description='Glucose uptake rate for anabolic part of overflow metabolism'),\n",
    "    q_s_of_en=dict(unit='[g/g/h]', description='Glucose uptake rate for energetic part of overflow metabolism'),\n",
    "    q_a_p=dict(unit='[g/g/h]', description='Acetate production rate from overflow metabolism'),\n",
    "    q_a_c=dict(unit='[g/g/h]', description='Acetate uptake rate (Michaelis-Menten kinetics)'),\n",
    "    q_a_c_an=dict(unit='[g/g/h]', description='Acetate uptake rate used for biomass synthesis'),\n",
    "    q_a_c_en=dict(unit='[g/g/h]', description='Acetate uptake rate for energy use constrained by oxygen availability'),\n",
    "    q_a=dict(unit='[g/g/h]', description='Net acetate accumulation rate (production minus consumption)'),\n",
    "    q_o=dict(unit='depends on q_o_unit_mmol', description='Total oxygen uptake rate (glucose oxidation + acetate energy use)'),\n",
    "    my=dict(unit='[1/h]', description='Specific growth rate combining anabolic contributions from glucose and acetate'),\n",
    "    OCR=dict(unit='[mmol/(g*h)]', description='Oxygen consumption rate in mmol')\n",
    ")\n"
   ],
   "outputs": [],
   "execution_count": 12
  },
  {
   "cell_type": "code",
   "id": "57fddc57-c8ff-438e-86dd-afa934a198f7",
   "metadata": {
    "ExecuteTime": {
     "end_time": "2025-10-09T14:31:04.370398Z",
     "start_time": "2025-10-09T14:31:04.364392Z"
    }
   },
   "source": [
    "# For the Rates\n",
    "md_output = generate_markdown_table(rates, 'Rates')\n",
    "# Display in Jupyter\n",
    "Markdown(md_output)"
   ],
   "outputs": [
    {
     "data": {
      "text/plain": [
       "<IPython.core.display.Markdown object>"
      ],
      "text/markdown": "## Rates\n\n| name | description | unit |\n| --- | --- | --- |\n| q_s | Specific glucose uptake rate (Monod + acetate inhibition) | [g/g/h] |\n| q_s_ox | Total glucose uptake rate into oxidative metabolism | [g/g/h] |\n| q_s_ox_an | Glucose uptake rate for anabolic part of oxidative metabolism | [g/g/h] |\n| q_s_ox_en | Glucose uptake rate for energetic part of oxidative metabolism | [g/g/h] |\n| q_o_s | Oxygen uptake rate from glucose oxidation | [g/g/h] |\n| q_s_of | Glucose uptake rate for overflow metabolism | [g/g/h] |\n| q_s_of_an | Glucose uptake rate for anabolic part of overflow metabolism | [g/g/h] |\n| q_s_of_en | Glucose uptake rate for energetic part of overflow metabolism | [g/g/h] |\n| q_a_p | Acetate production rate from overflow metabolism | [g/g/h] |\n| q_a_c | Acetate uptake rate (Michaelis-Menten kinetics) | [g/g/h] |\n| q_a_c_an | Acetate uptake rate used for biomass synthesis | [g/g/h] |\n| q_a_c_en | Acetate uptake rate for energy use constrained by oxygen availability | [g/g/h] |\n| q_a | Net acetate accumulation rate (production minus consumption) | [g/g/h] |\n| q_o | Total oxygen uptake rate (glucose oxidation + acetate energy use) | depends on q_o_unit_mmol |\n| my | Specific growth rate combining anabolic contributions from glucose and acetate | [1/h] |\n| OCR | Oxygen consumption rate in mmol | [mmol/(g*h)] |\n"
     },
     "execution_count": 13,
     "metadata": {},
     "output_type": "execute_result"
    }
   ],
   "execution_count": 13
  },
  {
   "cell_type": "code",
   "id": "589fd8fc",
   "metadata": {
    "ExecuteTime": {
     "end_time": "2025-10-09T14:31:04.395605Z",
     "start_time": "2025-10-09T14:31:04.382169Z"
    }
   },
   "source": [
    "# Equations\n",
    "def algebra(x, t):\n",
    "\n",
    "\n",
    "   \n",
    "    \n",
    "\n",
    "\n",
    "    '''------------------- generated variables -------------------'''\n",
    "\n",
    "    X = x[0]      # Biomass\n",
    "    S = x[1]    # Substrate\n",
    "    A = x[2]   # Acetate\n",
    "    V = x[3]    # Volume\n",
    "\n",
    "   \n",
    "\n",
    "    '''------------------- generated constants -------------------'''\n",
    "\n",
    "    q_s_max = constants['q_s_max']['value']    # Maximum substrate uptake rate\n",
    "    q_o_max_mmol = constants['q_o_max_mmol']['value']   # Maximum oxygen uptake rate in mmol\n",
    "    molar_mass_O2 = constants['molar_mass_O2']['value']    # Molar mass of oxygen\n",
    "    q_o_max = constants['q_o_max']['value']     # Maximum oxygen uptake rate\n",
    "    q_a_c_max_b = constants['q_a_c_max_b']['value']     # Maximum acetate consumption rate (batch)\n",
    "    q_a_c_max_f = constants['q_a_c_max_f']['value']    # Maximum acetate consumption rate (fed-batch)\n",
    "    K_s = constants['K_s']['value']   # Substrate affinity constant\n",
    "    K_a = constants['K_a']['value']    # Acetate inhibition constant\n",
    "    K_io = constants['K_io']['value']    # Oxygen inhibition constant\n",
    "    K_is = constants['K_is']['value']    # Substrate inhibition constant\n",
    "    Y_xs_ox = constants['Y_xs_ox']['value']    # Oxidative biomass yield on substrate\n",
    "    Y_xs_of = constants['Y_xs_of']['value']    # Overflow biomass yield on substrate\n",
    "    Y_xa = constants['Y_xa']['value']    # Acetate yield on biomass\n",
    "    Y_os = constants['Y_os']['value']    # Oxygen yield on substrate\n",
    "    Y_oa = constants['Y_oa']['value']    # Oxygen yield on acetate\n",
    "    Y_as = constants['Y_as']['value']    # Acetate yield on substrate\n",
    "    q_m = constants['q_m']['value']    # Maintenance rate\n",
    "    C_s = constants['C_s']['value']    # Carbon content in substrate\n",
    "    C_a = constants['C_a']['value']    # Carbon content in acetate\n",
    "    C_x = constants['C_x']['value']    # Carbon content in biomass    \n",
    "    mu_set = constants['mu_set']['value']    # Set specific growth rate\n",
    "    G = constants['G']['value']    # Stoichiometric coefficient\n",
    "\n",
    "    '''------------------- feed options  -------------------'''\n",
    "\n",
    "\n",
    "    #use S_feed as your feed concentration in your Formulas\n",
    "    S_feed = inputs['Feed']['concentration']\n",
    "\n",
    "    # this is an optional feature you can  use if you want some changes depending on the feeding state\n",
    "    if feed.batch:\n",
    "        # put here the things that should happen while we dont feed\n",
    "        pass\n",
    "    if feed.feeding_first:\n",
    "        # put here the things that should happen when feeding starts (will happen only once)\n",
    "        pass # delete this if not needed but remember!: you can call with feed.ts the time when the feed started and with feed.X_fedbatch_start the Biomass at the moment of feed start\n",
    "    if feed.feeding_exp:\n",
    "        q_a_c_max_b = q_a_c_max_f\n",
    "        #set G to 1.3\n",
    "        G = 1.3\n",
    "    if feed.feeding_const:\n",
    "        pass # put here your induction equation(s)\n",
    "\n",
    "    '''------------------- put here your equations  -------------------'''\n",
    "\n",
    "    # algebraic equations\n",
    "    # [g/g/h]  -- specific glucose uptake rate (Monod + acetate inhibition) (eq 1)\n",
    "    q_s = q_s_max / (1 + A / K_is) * S / (S + K_s)  \n",
    "    \n",
    "    # [g/g/h]  -- total glucose taken into oxidative metabolism\n",
    "    q_s_ox = q_s  \n",
    "    \n",
    "    # [g/g/h]  -- specific glucose uptake rate for anabolic part of oxidative metabolism (eq 2)\n",
    "    # q_m [g/g/h], Y_xs_ox [g/g], C_x [mol C/g], C_s [mol C/g]\n",
    "    q_s_ox_an = (q_s_ox - q_m) * Y_xs_ox * C_x / C_s\n",
    "    \n",
    "    # [g/g/h]  -- specific glucose uptake rate for energetic part of oxidative metabolism (eq 3)\n",
    "    q_s_ox_en = q_s_ox - q_s_ox_an  \n",
    "    \n",
    "    # [g/g/h]  -- specific glucose uptake rate for oxygen demand from glucose oxidation (eq 4)\n",
    "    # Y_os [g/g]\n",
    "    q_o_s = q_s_ox_en * Y_os  \n",
    "    \n",
    "    # Dynamic oxygen limit [g/g/h]\n",
    "    q_o_lim = q_o_max / (1 + A / K_io)\n",
    "    \n",
    "    if q_o_s >= q_o_lim:\n",
    "        # proportional reduction of oxidative flux to satisfy condition\n",
    "        q_s_ox_en_scaling = q_s_ox_en\n",
    "        q_s_ox_en = q_o_lim / Y_os \n",
    "        scaling_s = q_s_ox_en / q_s_ox_en_scaling           \n",
    "        q_s_ox_an *= scaling_s\n",
    "    \n",
    "        q_o_s = q_o_lim\n",
    "    \n",
    "        # [g/g/h] -- specific glucose uptake rate for the oxidative flux (eq 5)\n",
    "        q_s_ox = q_s_ox_an + q_s_ox_en  \n",
    "    \n",
    "        # [g/g/h]  -- specific glucose uptake rate for overflow metabolism (eq 6)\n",
    "        q_s_of = q_s - q_s_ox  \n",
    "    \n",
    "        # [g/g/h]  -- specific glucose uptake rate for anabolic part of overflow metabolism (eq 7)\n",
    "        q_s_of_an = q_s_of * Y_xs_of * C_x / C_s   \n",
    "    \n",
    "        # [g/g/h]  -- specific glucose uptake rate for energetic part of overflow metabolism (eq 8)   \n",
    "        q_s_of_en = q_s_of - q_s_of_an  \n",
    "    \n",
    "        # [g/g/h]  -- specific acetate production from overflow metabolism (eq 9)\n",
    "        # Y_as [g/g]    \n",
    "        q_a_p = q_s_of_en * Y_as\n",
    "    \n",
    "        # no acetate consumption during overflow\n",
    "        q_a_c = 0\n",
    "        q_a_c_en = 0\n",
    "        q_a_c_an = 0\n",
    "        q_a_c_en_constrain  = 0\n",
    "    \n",
    "    else:\n",
    "        # no overflow metabolism, no acetate production\n",
    "        q_a_p = 0\n",
    "        q_s_of = 0\n",
    "        q_s_of_en = 0\n",
    "        q_s_of_an = 0\n",
    "    \n",
    "        # [g/g/h]  -- specific acetate uptake (Michaelis-Menten, eq 10)\n",
    "        q_a_c = q_a_c_max_b * (A / (A + K_a))  \n",
    "    \n",
    "        # [g/g/h]  -- specific acetate used for biomass synthesis (eq 11)\n",
    "        # C_x [mol C/g], C_a [mol C/g]\n",
    "        q_a_c_an = q_a_c * Y_xa * C_x / C_a \n",
    "    \n",
    "        # [g/g/h] -- specific acetate for energy-use, constrained by oxygen demand (eq 12)\n",
    "        q_a_c_en_constrain  =  (q_o_max - q_o_s) / Y_oa\n",
    "    \n",
    "        q_a_c_en = min((q_a_c - q_a_c_an), q_a_c_en_constrain)\n",
    "    \n",
    "        if (q_a_c - q_a_c_an) >= q_a_c_en_constrain:\n",
    "            scaling_a = q_a_c_en_constrain / (q_a_c - q_a_c_an)\n",
    "            q_a_c *= scaling_a\n",
    "            q_a_c_an *= scaling_a\n",
    "    \n",
    "    # [g/g/h] -- specific acetate accumulation (production - consumption)    \n",
    "    q_a = q_a_p - q_a_c\n",
    "    \n",
    "    # [g/g/h] -- specific oxygen consumption (glucose oxidation + acetate energy use), (eq 13)   \n",
    "    q_o = (q_o_s + q_a_c_en * Y_oa) / G\n",
    "    \n",
    "    # [1/h] -- specific growth rate (mu), combines anabolic contributions of q_s_ox, q_s_of, and q_a_c (eq 14)\n",
    "    my = (q_s_ox - q_m) * Y_xs_ox + q_s_of * Y_xs_of + q_a_c * Y_xa\n",
    "\n",
    "    OCR = q_o / 32 * X * 1000\n",
    "\n",
    "\n",
    "    #remeber to add the variables you want to plot and need for your differential equations that are not rates\n",
    "    return {\n",
    "    'q_s': q_s, 'q_s_ox': q_s_ox, 'q_s_ox_an': q_s_ox_an, 'q_s_ox_en': q_s_ox_en, 'q_o_s': q_o_s,\n",
    "    'q_s_of': q_s_of, 'q_s_of_an': q_s_of_an, 'q_s_of_en': q_s_of_en, 'q_a_p': q_a_p, 'q_a_c': q_a_c,\n",
    "    'q_a_c_an': q_a_c_an, 'q_a_c_en': q_a_c_en, 'q_a': q_a, 'q_o': q_o, 'my': my, 'OCR': OCR\n",
    "    }\n"
   ],
   "outputs": [],
   "execution_count": 14
  },
  {
   "cell_type": "code",
   "id": "3f8e9c4c",
   "metadata": {
    "ExecuteTime": {
     "end_time": "2025-10-09T14:31:04.411991Z",
     "start_time": "2025-10-09T14:31:04.402421Z"
    }
   },
   "source": [
    "# Function for the hole Model\n",
    "def dif_simple(x, t):\n",
    "\n",
    "\n",
    "\n",
    "\n",
    "    '''------------------- generated variables -------------------'''\n",
    "\n",
    "    X = x[0]    # Biomass\n",
    "    S = x[1]    # Substrate\n",
    "    A = x[2]    # Acetate\n",
    "    V = x[3]    # Volume\n",
    "\n",
    "    \n",
    "\n",
    "    '''------------------- generated constants -------------------'''\n",
    "\n",
    "    q_s_max = constants['q_s_max']['value']    # Maximum substrate uptake rate\n",
    "    q_o_max_mmol = constants['q_o_max_mmol']['value']    # Maximum oxygen uptake rate in mmol\n",
    "    molar_mass_O2 = constants['molar_mass_O2']['value']    # Molar mass of oxygen\n",
    "    q_o_max = constants['q_o_max']['value']    # Maximum oxygen uptake rate\n",
    "    q_a_c_max_b = constants['q_a_c_max_b']['value']    # Maximum acetate production rate (batch)\n",
    "    q_a_c_max_f = constants['q_a_c_max_f']['value']    # Maximum acetate production rate (fed-batch)\n",
    "    K_s = constants['K_s']['value']    # Substrate affinity constant\n",
    "    K_a = constants['K_a']['value']    # Acetate inhibition constant\n",
    "    K_io = constants['K_io']['value']    # Oxygen inhibition constant\n",
    "    K_is = constants['K_is']['value']    # Substrate inhibition constant\n",
    "    Y_xs_ox = constants['Y_xs_ox']['value']    # Oxidative biomass yield on substrate\n",
    "    Y_xs_of = constants['Y_xs_of']['value']    # Overflow biomass yield on substrate\n",
    "    Y_xa = constants['Y_xa']['value']    # Acetate yield on biomass\n",
    "    Y_os = constants['Y_os']['value']    # Oxygen yield on substrate\n",
    "    Y_oa = constants['Y_oa']['value']    # Oxygen yield on acetate\n",
    "    Y_as = constants['Y_as']['value']    # Acetate yield on substrate\n",
    "    q_m = constants['q_m']['value']    # Maintenance rate\n",
    "    C_s = constants['C_s']['value']    # Carbon content in substrate\n",
    "    C_a = constants['C_a']['value']    # Carbon content in acetate\n",
    "    C_x = constants['C_x']['value']    # Carbon content in biomass\n",
    "    mu_set = constants['mu_set']['value']    # Set specific growth rate\n",
    "    G = constants['G']['value']    # Stoichiometric coefficient\n",
    "\n",
    "    rs = algebra(x, t)\n",
    "\n",
    "    '''------------------- generated rates -------------------'''\n",
    "\n",
    "    q_s = rs['q_s']    #Specific substrate uptake rate\n",
    "    q_o_s = rs['q_o_s']    #Specific oxygen uptake rate on substrate\n",
    "    q_a_p = rs['q_a_p']    #Specific acetate production rate (product)\n",
    "    q_a_c = rs['q_a_c']    #Specific acetate consumption rate\n",
    "    q_a = rs['q_a']    #Total specific acetate rate\n",
    "    q_a_c_en = rs['q_a_c_en']    #Specific acetate rate under energy limitation\n",
    "    q_o = rs['q_o']    #Total specific oxygen uptake rate\n",
    "    my = rs['my']    #Specific growth rate\n",
    "    OCR = rs['OCR']    #Oxygen consumption rate in mmol/(L*h)\n",
    "\n",
    "\n",
    "    '''------------------- feed options  -------------------'''\n",
    "\n",
    "    feed.get(t, S, X)    # S and X are the variables for Substrate and Biomass change them if needed\n",
    "\n",
    "    #use S_feed as your feed concentration in your Formulas\n",
    "    S_feed = inputs['Feed']['concentration']\n",
    "    V0 = variables['Volume']['initial_value'] # import V0 as initial volume\n",
    "\n",
    "    # this is an optional feature you can  use if you want some changes depending on the feeding state\n",
    "    if feed.batch:\n",
    "        # put here the things that should happen while we dont feed\n",
    "        F = 0\n",
    "    if feed.feeding_first:\n",
    "        # put here the things that should happen when feeding starts (will happen only once)\n",
    "\n",
    "        F0 = V0 * feed.X_fedbatch_start * mu_set / (Y_xs_ox * S_feed)\n",
    "        F = F0 * exp(mu_set * (t - feed.ts))\n",
    "        print(F0, F0 * exp(mu_set * (t - feed.ts)), t)\n",
    "    if feed.feeding_exp:\n",
    "        F0 = V0 * feed.X_fedbatch_start * mu_set / (Y_xs_ox * S_feed)\n",
    "        #calculate F\n",
    "        F = F0 * exp(mu_set * (t - feed.ts))\n",
    "            \n",
    "    if feed.feeding_const:\n",
    "        F = 0.188\n",
    "    '''------------------- put here your differential equations -------------------'''\n",
    "    dXdt = (-F / V + my) * X         \n",
    "    dSdt = F / V * (S_feed - S) - q_s  * X        \n",
    "    dVdt = F \n",
    "    dAdt = (q_a_p - q_a_c)  * X - (F / V) * A\n",
    "\n",
    "\n",
    "    #this will be used by odeint\n",
    "    dxdt = [dXdt, dSdt, dAdt, dVdt]\n",
    "    return dxdt"
   ],
   "outputs": [],
   "execution_count": 15
  },
  {
   "cell_type": "code",
   "id": "d6b626a2",
   "metadata": {
    "ExecuteTime": {
     "end_time": "2025-10-09T14:31:05.085866Z",
     "start_time": "2025-10-09T14:31:04.421069Z"
    }
   },
   "source": [
    "# Define initial conditions\n",
    "x0 = [variables['Biomass']['initial_value'], variables['Substrate']['initial_value'], variables['Acetate']['initial_value'], variables['Volume']['initial_value']]\n",
    "\n",
    "x = odeint(dif_simple, x0, t)\n",
    "# Print the feed start time once\n",
    "print(\"Feed started at:\", feed.ts)"
   ],
   "outputs": [
    {
     "name": "stdout",
     "output_type": "stream",
     "text": [
      "Feeding started via substrate limit\n",
      "Feeding started at time: 7.497\n",
      "Feeding started at Biomass: 6.321461\n",
      "0.05005681462304764 0.05005681462304764 7.496935860147105\n",
      "Feed started at: 7.496935860147105\n"
     ]
    }
   ],
   "execution_count": 16
  },
  {
   "cell_type": "code",
   "id": "250e9101-4c7e-45be-94b9-2b7b58bb328d",
   "metadata": {
    "ExecuteTime": {
     "end_time": "2025-10-09T14:31:05.126106Z",
     "start_time": "2025-10-09T14:31:05.094792Z"
    }
   },
   "source": [
    "# Actual integration phase by phase for more smoothness\n",
    "\n",
    "if feed.t_const is None and feed.t_fedbatch_start is None and feed.substrate_limit is None:\n",
    "    mode = 'Mode: Batch only'\n",
    "elif feed.t_const is not None and feed.t_fedbatch_start is None and feed.substrate_limit is None:\n",
    "    t_1 = np.linspace(t0, t_constant_feed, int(t_constant_feed/dt)+1)\n",
    "    t_2 = np.linspace(t_constant_feed, t_end, int((t_end - t_constant_feed)/dt)+1)\n",
    "    feed = cfb.Feed(t_const = t_constant_feed)\n",
    "    x_1 = odeint(dif_simple, x0, t_1)\n",
    "    x_2 = odeint(dif_simple, x_1[-1], t_2)\n",
    "    x = np.vstack((x_1[:-1], x_2))\n",
    "    mode = 'Mode: Constant feed only'\n",
    "elif feed.t_const is None and feed.t_fedbatch_start is not None and feed.substrate_limit is None:\n",
    "    t_1 = np.linspace(t0, t_fedbatch_start, int(t_fedbatch_start/dt)+1)\n",
    "    t_2 = np.linspace(t_fedbatch_start, t_end, int((t_end - t_fedbatch_start)/dt)+1)\n",
    "    feed = cfb.Feed(t_fedbatch_start = t_fedbatch_start)\n",
    "    x_1 = odeint(dif_simple, x0, t_1)\n",
    "    x_2 = odeint(dif_simple, x_1[-1], t_2)\n",
    "    x = np.vstack((x_1[:-1], x_2))\n",
    "    mode = 'Mode: Fedbatch only (start by time)'\n",
    "elif feed.t_const is None and feed.t_fedbatch_start is None and feed.substrate_limit is not None:\n",
    "    t_1 = np.linspace(t0, feed.ts, int(feed.ts/dt)+1)\n",
    "    t_2 = np.linspace(feed.ts, t_end, int((t_end - feed.ts)/dt)+1)\n",
    "    feed = cfb.Feed(substrate_limit = substrate_limit_fedbatch)\n",
    "    x_1 = odeint(dif_simple, x0, t_1)\n",
    "    x_2 = odeint(dif_simple, x_1[-1], t_2)\n",
    "    x = np.vstack((x_1[:-1], x_2))\n",
    "    mode = 'Mode: Fedbatch only (start by substrate limit)'\n",
    "elif feed.t_const is not None and feed.t_fedbatch_start is not None and feed.substrate_limit is None:\n",
    "    t_1 = np.linspace(t0, t_fedbatch_start, int(t_fedbatch_start/dt)+1)\n",
    "    t_2 = np.linspace(t_fedbatch_start, t_constant_feed, int((t_constant_feed - t_fedbatch_start)/dt)+1)\n",
    "    t_3 = np.linspace(t_constant_feed, t_end, int((t_end - t_constant_feed)/dt)+1)\n",
    "    feed = cfb.Feed(t_const = t_constant_feed, t_fedbatch_start = t_fedbatch_start)\n",
    "    x_1 = odeint(dif_simple, x0, t_1)\n",
    "    x_2 = odeint(dif_simple, x_1[-1], t_2)\n",
    "    x_3 = odeint(dif_simple, x_2[-1], t_3)\n",
    "    x = np.vstack((x_1[:-1], x_2[:-1], x_3))\n",
    "    mode = 'Mode: Const. feed + fedbatch (by time)'\n",
    "elif feed.t_const is not None and feed.t_fedbatch_start is None and feed.substrate_limit is not None:\n",
    "    t_1 = np.linspace(t0, feed.ts, int(feed.ts/dt)+1)\n",
    "    t_2 = np.linspace(feed.ts, t_constant_feed, int((t_constant_feed - feed.ts)/dt)+1)\n",
    "    t_3 = np.linspace(t_constant_feed, t_end, int((t_end - t_constant_feed)/dt)+1)\n",
    "    feed = cfb.Feed(t_const = t_constant_feed, substrate_limit = substrate_limit_fedbatch)\n",
    "    x_1 = odeint(dif_simple, x0, t_1)\n",
    "    x_2 = odeint(dif_simple, x_1[-1], t_2)\n",
    "    x_3 = odeint(dif_simple, x_2[-1], t_3)\n",
    "    x = np.vstack((x_1[:-1], x_2[:-1], x_3))\n",
    "    mode = 'Mode: Const. feed + fedbatch (by substrate)'\n",
    "elif feed.t_const is None and feed.t_fedbatch_start is not None and feed.substrate_limit is not None:\n",
    "    t_1 = np.linspace(t0, feed.ts, int(feed.ts/dt)+1)\n",
    "    t_2 = np.linspace(feed.ts, t_end, int((t_end - feed.ts)/dt)+1)\n",
    "    feed = cfb.Feed(t_fedbatch_start = t_fedbatch_start, substrate_limit = substrate_limit_fedbatch)\n",
    "    x_1 = odeint(dif_simple, x0, t_1)\n",
    "    x_2 = odeint(dif_simple, x_1[-1], t_2)\n",
    "    x = np.vstack((x_1[:-1], x_2))\n",
    "    mode = 'Mode: Fedbatch (start by time or substrate)'\n",
    "elif feed.t_const is not None and feed.t_fedbatch_start is not None and feed.substrate_limit is not None:\n",
    "    t_1 = np.linspace(t0, feed.ts, int(feed.ts/dt)+1)\n",
    "    t_2 = np.linspace(feed.ts, t_constant_feed, int((t_constant_feed - feed.ts)/dt)+1)\n",
    "    t_3 = np.linspace(t_constant_feed, t_end, int((t_end - t_constant_feed)/dt)+1)\n",
    "    feed = cfb.Feed(t_const = t_constant_feed, t_fedbatch_start = t_fedbatch_start, substrate_limit = substrate_limit_fedbatch)\n",
    "    x_1 = odeint(dif_simple, x0, t_1)\n",
    "    x_2 = odeint(dif_simple, x_1[-1], t_2)\n",
    "    x_3 = odeint(dif_simple, x_2[-1], t_3)\n",
    "    x = np.vstack((x_1[:-1], x_2[:-1], x_3))\n",
    "    mode = 'Mode: Const. feed + fedbatch (start by time or substrate)'\n",
    "print(mode)"
   ],
   "outputs": [
    {
     "name": "stdout",
     "output_type": "stream",
     "text": [
      "Feeding started via substrate limit\n",
      "Feeding started at time: 7.497\n",
      "Feeding started at Biomass: 6.321462\n",
      "0.05005682504104443 0.05005682504104443 7.497021288255519\n",
      "Mode: Const. feed + fedbatch (by substrate)\n"
     ]
    }
   ],
   "execution_count": 17
  },
  {
   "cell_type": "code",
   "id": "25895b41",
   "metadata": {
    "ExecuteTime": {
     "end_time": "2025-10-09T14:31:05.155635Z",
     "start_time": "2025-10-09T14:31:05.134477Z"
    }
   },
   "source": [
    "'''Here all the metabolic fluxes that will be plotet wil be added to x '''\n",
    "algebra_results = []    #just to initiate the variable\n",
    "q_m = constants['q_m']['value']    # Maintenance rate\n",
    "\n",
    "# Iterate over time steps to access individual values\n",
    "for state_vector, time_point in zip(x, t):\n",
    "    #if you calculate the oxygen consumption rate calculate it here, because its not a differential equation\n",
    "    X, S, A, V = state_vector\n",
    "    results = algebra(state_vector, time_point)\n",
    "    \n",
    "    #set different qo if depending on the unit you choose\n",
    "    if q_o_unit_mmol:\n",
    "        q_o_mmol = results['q_o'] / 32 * 1000\n",
    "        q_o_unit = \"[mmol/(g·h)]\"\n",
    "        rates['q_o']['unit'] = q_o_unit\n",
    "    else:\n",
    "        q_o_mmol = results['q_o']\n",
    "        q_o_unit = \"[g/(g·h)]\"\n",
    "        rates['q_o']['unit'] = q_o_unit\n",
    "    algebra_results.append([\n",
    "        results['OCR'],\n",
    "        results['q_s'],\n",
    "        results['q_s_ox'],\n",
    "        results['q_s_ox_an'],\n",
    "        results['q_s_ox_en'],\n",
    "        results['q_o_s'],\n",
    "        results['q_s_of'],\n",
    "        results['q_s_of_an'],\n",
    "        results['q_s_of_en'],\n",
    "        results['q_a_p'],\n",
    "        results['q_a_c'],\n",
    "        results['q_a_c_an'],\n",
    "        results['q_a_c_en'],\n",
    "        results['q_a'],\n",
    "        q_o_mmol,\n",
    "        results['my'],\n",
    "    \n",
    "\n",
    "    ])\n",
    "\n",
    "#combine everything in x\n",
    "algebra_array = np.array(algebra_results)\n",
    "x_and_rs = np.hstack((x, algebra_array))"
   ],
   "outputs": [],
   "execution_count": 18
  },
  {
   "metadata": {
    "ExecuteTime": {
     "end_time": "2025-10-09T14:31:05.170017Z",
     "start_time": "2025-10-09T14:31:05.160745Z"
    }
   },
   "cell_type": "code",
   "source": [
    "# Initializing the allthedata dictionary\n",
    "\n",
    "if feed.t_const is None and feed.t_fedbatch_start is None and feed.substrate_limit is None:\n",
    "    builder = catd.AllthedataBuilder(variables, inputs, rates, x_and_rs, t)\n",
    "elif feed.t_const is not None and feed.t_fedbatch_start is None and feed.substrate_limit is None:\n",
    "    builder = catd.AllthedataBuilder(variables, inputs, rates, x_and_rs, t, t_constant_feed = t_2)\n",
    "elif feed.t_const is None and feed.t_fedbatch_start is not None and feed.substrate_limit is None:\n",
    "    builder = catd.AllthedataBuilder(variables, inputs, rates, x_and_rs, t, t_2)\n",
    "elif feed.t_const is None and feed.t_fedbatch_start is None and feed.substrate_limit is not None:\n",
    "    builder = catd.AllthedataBuilder(variables, inputs, rates, x_and_rs, t, t_2)\n",
    "elif feed.t_const is not None and feed.t_fedbatch_start is not None and feed.substrate_limit is None:\n",
    "    builder = catd.AllthedataBuilder(variables, inputs, rates, x_and_rs, t, t_2, t_3)\n",
    "elif feed.t_const is not None and feed.t_fedbatch_start is None and feed.substrate_limit is not None:\n",
    "    builder = catd.AllthedataBuilder(variables, inputs, rates, x_and_rs, t, t_2, t_3)\n",
    "elif feed.t_const is None and feed.t_fedbatch_start is not None and feed.substrate_limit is not None:\n",
    "    builder = catd.AllthedataBuilder(variables, inputs, rates, x_and_rs, t, t_2)\n",
    "elif feed.t_const is not None and feed.t_fedbatch_start is not None and feed.substrate_limit is not None:\n",
    "    builder = catd.AllthedataBuilder(variables, inputs, rates, x_and_rs, t, t_2, t_3)\n",
    "\n",
    "allthedata = builder.build()"
   ],
   "id": "ba4b897f1c54f0a6",
   "outputs": [],
   "execution_count": 19
  },
  {
   "metadata": {
    "ExecuteTime": {
     "end_time": "2025-10-09T14:31:30.675903Z",
     "start_time": "2025-10-09T14:31:05.176425Z"
    }
   },
   "cell_type": "code",
   "source": [
    "path_to_results, datestring, run_id = builder.init_saving(1, 1, os.path.join(os.getcwdb().decode('utf-8'), 'Xu et al. Results'), None)\n",
    "allthedata_plot = {\"1\": allthedata}\n",
    "plot = cplt.PlotPlotly(\n",
    "    allthedata_plot,\n",
    "    path_to_results,\n",
    "    plot_info=f\"{datestring}_{run_id}\",\n",
    "    plot_mode=\"white_w_grid\",\n",
    "    colorscheme=\"matlab_default\",\n",
    "    plot_formats=(\"html\")\n",
    ")\n",
    "plot.use_column_title = True\n",
    "plot.plot_height_multiple_rows = 1000  # default is 200, increase for bigger plots\n",
    "plot.plot_height_one_row = 600  # default is 225\n",
    "plot.plot_by_expID(\n",
    "    plot_replicates=False,\n",
    "    show_legend=False,\n",
    "    plot_SE_data=False,\n",
    "    split_at_feed_start=False,\n",
    "    range_end=None,\n",
    "    plot_multiple_list=[\n",
    "        dict(members=[\"Biomass\", \"Substrate\"], axes=[\"left\", \"right\"])\n",
    "    ]\n",
    ")"
   ],
   "id": "556c92f87858478f",
   "outputs": [
    {
     "name": "stdout",
     "output_type": "stream",
     "text": [
      "Results are saved here: C:\\Users\\matdf\\Documents\\Bachelorarbeit\\git_tub\\e-coli-model-overview\\Library_of_models\\ecoli_1999_Xu_Overflow\\Xu et al. Results\\20251009_16-31-05_1\n"
     ]
    }
   ],
   "execution_count": 20
  },
  {
   "metadata": {
    "ExecuteTime": {
     "end_time": "2025-10-09T14:31:30.686120Z",
     "start_time": "2025-10-09T14:31:30.675903Z"
    }
   },
   "cell_type": "code",
   "source": "",
   "id": "319f1f89f1fb3823",
   "outputs": [],
   "execution_count": null
  }
 ],
 "metadata": {
  "kernelspec": {
   "display_name": "Python [conda env:base] *",
   "language": "python",
   "name": "conda-base-py"
  },
  "language_info": {
   "codemirror_mode": {
    "name": "ipython",
    "version": 3
   },
   "file_extension": ".py",
   "mimetype": "text/x-python",
   "name": "python",
   "nbconvert_exporter": "python",
   "pygments_lexer": "ipython3",
   "version": "3.12.7"
  }
 },
 "nbformat": 4,
 "nbformat_minor": 5
}
