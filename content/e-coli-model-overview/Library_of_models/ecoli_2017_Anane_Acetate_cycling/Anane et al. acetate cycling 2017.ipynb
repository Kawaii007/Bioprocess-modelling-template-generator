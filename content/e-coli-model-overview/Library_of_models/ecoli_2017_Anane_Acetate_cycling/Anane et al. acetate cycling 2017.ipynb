{
 "cells": [
  {
   "cell_type": "markdown",
   "id": "7e3cd0db",
   "metadata": {},
   "source": [
    "# Model: Anane et al. acetate cycling 2017"
   ]
  },
  {
   "cell_type": "markdown",
   "id": "1154eece",
   "metadata": {},
   "source": [
    "###### This file has been automatically generated with the Template Generator\n",
    "###### Here is the link to the GitHub repository: https://git.tu-berlin.de/bvt-htbd/modelling/e-coli-model-overview/\n",
    "###### Version 1.7.2 from 30.09.25 Matteo Di Fiore, New Feature: Better log messages\n",
    "###### Name of the Paper: Modelling overflow metabolism in Escherichia coli by acetate cycling\n",
    "###### DOI: https://doi.org/10.14279/depositonce-8272\n",
    "###### Description and assumptions: This is the model for overflow metabolism of E. coli as described in the paper of Anane et al. 2017. The model includes substrate uptake, acetate production and consumption, oxygen uptake, and biomass growth. The model is based on Monod kinetics with inhibition terms for acetate and oxygen. The model can simulate both batch and fed-batch cultures, with the option to include a feeding strategy based on substrate concentration. The model also includes a maintenance term for biomass growth. The model is designed to run without if clauses to see if acetate is produced or consumed. It happens at the same time.\n",
    "###### Goal of Simulation: Recreate the results of the paper and provide a basis for further model extensions.\n",
    "###### Created on 2025 Jul Fri\n",
    "###### Updated on 08.10.2025\n",
    "###### @authors: Matteo Di Fiore"
   ]
  },
  {
   "metadata": {},
   "cell_type": "code",
   "outputs": [],
   "execution_count": null,
   "source": [
    "%pip install -q matplotlib\n",
    "%pip install -q plotly\n",
    "%pip install -q nbformat"
   ],
   "id": "f9ea6197b86c084b"
  },
  {
   "cell_type": "code",
   "id": "b1d0e43f",
   "metadata": {
    "ExecuteTime": {
     "end_time": "2025-10-08T15:43:51.220544Z",
     "start_time": "2025-10-08T15:43:51.206256Z"
    }
   },
   "source": [
    "# Used packages\n",
    "import numpy as np                                         # Numerical computing, arrays, linear algebra\n",
    "from scipy.integrate import odeint                         # ODE solver for integrating differential equations\n",
    "from math import exp                                       # Exponential function (for kinetics and growth rates)\n",
    "import class_plot as cplt                                  # Custom plotting class (data visualization)\n",
    "import class_fedbatch as cfb                               # Custom fed-batch model class (feeding & pulse logic)\n",
    "import class_allthedata as catd                            # Custom all-the-data model class (dictionary creation)\n",
    "from markdown_generation import generate_markdown_table    # Custom markdown generation function\n",
    "from IPython.display import Markdown                       # Display formatted Markdown in Jupyter notebooks\n",
    "import os                                                  # System coding (to save folders)"
   ],
   "outputs": [],
   "execution_count": 58
  },
  {
   "cell_type": "code",
   "id": "744df90e-e80f-490d-98df-bc6a6b81812e",
   "metadata": {},
   "source": [
    "# Time variables\n",
    "t0 = 0.0 # initial time of simulation in h\n",
    "dt = 0.01 # steps of simulation in h\n",
    "t_end = 20 # change if you want, this is the time of the end of simulation in h\n",
    "t_constant_feed = 12 # change if you want, this is the time of the beginning of continuos feeding in h\n",
    "t_fedbatch_start = 6 # change if you want, this is the time of the beginning of fedbatch in h\n",
    "t = np.linspace(t0, t_end, int(t_end/dt)+1)"
   ],
   "outputs": [],
   "execution_count": 59
  },
  {
   "cell_type": "code",
   "id": "6d18191b-ab26-41bf-a16d-a4645a41120a",
   "metadata": {
    "ExecuteTime": {
     "end_time": "2025-10-08T15:43:51.247468Z",
     "start_time": "2025-10-08T15:43:51.242872Z"
    }
   },
   "source": [
    "# Feed options\n",
    "# this value decides when the feeding starts based on the remaining Substrate\n",
    "substrate_limit_fedbatch = 0.01    # this value is in (g/L) change the value if you want\n",
    "\n",
    "# initializing the feeding class\n",
    "# you can call the feeding class with t_fedbatch_start, substrate_limit_fedbatch, t_constant_feed and any combination of them\n",
    "# just remember that if you use both t_fedbatch_start and substrate_limit_fedbatch the feeding will start when the t_fedbatch_start is reached\n",
    "# if you want a fedbatch (with the feed start happening at t_fedbatch) it should be like this: feed = cfb.Feed(t_fedbatch_start = t_fedbatch_start), just remember to define t_fedbatch_start with a number\n",
    "# if you want a fedbatch (with the feed start happening at substrate_limit_fedbatch) it should be like this: feed = cfb.Feed(substrate_limit = substrate_limit_fedbatch), just remember to attribute a number to substrate_limit_fedbatch (you can find it at the button of this code block)\n",
    "# if you want a fedbatch (with the feed start happening at t_fedbatch or substrate_limit_fedbatch) and a constant feed it should be like this: feed = cfb.Feed(t_const = t_constant_feed, t_fedbatch_start = t_fedbatch_start) or feed = cfb.Feed(t_const = t_constant_feed, substrate_limit = substrate_limit_fedbatch) , just remember to define teh variables with a number\n",
    "feed = cfb.Feed() # write here the variable which determine how you feed. In this case it is a batch simulation"
   ],
   "outputs": [],
   "execution_count": 60
  },
  {
   "cell_type": "code",
   "id": "8b2e3b47",
   "metadata": {
    "ExecuteTime": {
     "end_time": "2025-10-08T15:43:51.261833Z",
     "start_time": "2025-10-08T15:43:51.251778Z"
    }
   },
   "source": [
    "variables = dict(\n",
    "    Biomass = dict(\n",
    "        description = 'Biomass',\n",
    "        unit = '[g/L]',\n",
    "        initial_value = 0.17,\n",
    "        boundaries = [None, None],\n",
    "        estimable = None,\n",
    "        weight = None,\n",
    "        plotting = {'plot': None, 'range_fedbatch': None},\n",
    "        volume_related = None,\n",
    "        conversion_factor = None),\n",
    "    Substrate = dict(\n",
    "        description = 'extracellular concentration of Substrate',\n",
    "        unit = '[g/L]',\n",
    "        initial_value = 4.94,\n",
    "        boundaries = [None, None],\n",
    "        estimable = None,\n",
    "        weight = None,\n",
    "        plotting = {'plot': None, 'range_fedbatch': None},\n",
    "        volume_related = None,\n",
    "        conversion_factor = None),\n",
    "    Acetate = dict(\n",
    "        description = 'Acetate',\n",
    "        unit = '[g/L]',\n",
    "        initial_value = 0.0129,\n",
    "        boundaries = [None, None],\n",
    "        estimable = None,\n",
    "        weight = None,\n",
    "        plotting = {'plot': None, 'range_fedbatch': None},\n",
    "        volume_related = None,\n",
    "        conversion_factor = None),\n",
    "    Volume = dict(\n",
    "        description = 'Volume of the Medium in the Reactor',\n",
    "        unit = '[L]',\n",
    "        initial_value = 2,\n",
    "        boundaries = [None, None],\n",
    "        estimable = None,\n",
    "        weight = None,\n",
    "        plotting = {'plot': None, 'range_fedbatch': None},\n",
    "        volume_related = None,\n",
    "        conversion_factor = None),\n",
    "    DOTa = dict(\n",
    "        description = 'actual dissolved oxygen tension',\n",
    "        unit = '[%]',\n",
    "        initial_value = 98,\n",
    "        boundaries = [None, None],\n",
    "        estimable = None,\n",
    "        weight = None,\n",
    "        plotting = {'plot': None, 'range_fedbatch': None},\n",
    "        volume_related = None,\n",
    "        conversion_factor = None),\n",
    "    DOT = dict(\n",
    "        description = 'measured dissolved oxygen tension',\n",
    "        unit = '[%]',\n",
    "        initial_value = 98,\n",
    "        boundaries = [None, None],\n",
    "        estimable = None,\n",
    "        weight = None,\n",
    "        plotting = {'plot': None, 'range_fedbatch': None},\n",
    "        volume_related = None,\n",
    "        conversion_factor = None),\n",
    ")"
   ],
   "outputs": [],
   "execution_count": 61
  },
  {
   "cell_type": "code",
   "id": "7340ccad-f90a-4b8b-b8ac-25f25965d5f2",
   "metadata": {
    "ExecuteTime": {
     "end_time": "2025-10-08T15:43:51.276792Z",
     "start_time": "2025-10-08T15:43:51.270018Z"
    }
   },
   "source": [
    "# For the Variables\n",
    "md_output = generate_markdown_table(variables, 'Variables')\n",
    "# Display in Jupyter\n",
    "Markdown(md_output)"
   ],
   "outputs": [
    {
     "data": {
      "text/plain": [
       "<IPython.core.display.Markdown object>"
      ],
      "text/markdown": "## Variables\n\n| name | Lower boundary | Upper boundary | conversion_factor | description | estimable | initial_value | unit | volume_related | weight |\n| --- | --- | --- | --- | --- | --- | --- | --- | --- | --- |\n| Biomass | None | None | None | Biomass | None | 0.17 | [g/L] | None | None |\n| Substrate | None | None | None | extracellular concentration of Substrate | None | 4.94 | [g/L] | None | None |\n| Acetate | None | None | None | Acetate | None | 0.0129 | [g/L] | None | None |\n| Volume | None | None | None | Volume of the Medium in the Reactor | None | 2 | [L] | None | None |\n| DOTa | None | None | None | actual dissolved oxygen tension | None | 98 | [%] | None | None |\n| DOT | None | None | None | measured dissolved oxygen tension | None | 98 | [%] | None | None |\n\n## Variables - plotting specs\n\n| Name | plot | range_fedbatch |\n| --- | --- | --- |\n| Biomass | None | None |\n| Substrate | None | None |\n| Acetate | None | None |\n| Volume | None | None |\n| DOTa | None | None |\n| DOT | None | None |\n"
     },
     "execution_count": 62,
     "metadata": {},
     "output_type": "execute_result"
    }
   ],
   "execution_count": 62
  },
  {
   "cell_type": "code",
   "id": "99f84beb",
   "metadata": {
    "ExecuteTime": {
     "end_time": "2025-10-08T15:43:51.297761Z",
     "start_time": "2025-10-08T15:43:51.293814Z"
    }
   },
   "source": [
    "inputs = dict(\n",
    "    Feed = dict(\n",
    "        description = 'Feed',\n",
    "        unit = '[L/h]',\n",
    "        concentration = 300,\n",
    "        plotting = {'plot': None, 'stem': None, 'range': [None, None]}),\n",
    ")"
   ],
   "outputs": [],
   "execution_count": 63
  },
  {
   "cell_type": "code",
   "id": "a6a24b02-1f82-42e9-98c7-1b95137df1b2",
   "metadata": {
    "ExecuteTime": {
     "end_time": "2025-10-08T15:43:51.324083Z",
     "start_time": "2025-10-08T15:43:51.317276Z"
    }
   },
   "source": [
    "# For the Inputs\n",
    "md_output = generate_markdown_table(inputs, 'Inputs')\n",
    "# Display in Jupyter\n",
    "Markdown(md_output)"
   ],
   "outputs": [
    {
     "data": {
      "text/plain": [
       "<IPython.core.display.Markdown object>"
      ],
      "text/markdown": "## Inputs\n\n| name | concentration | description | unit |\n| --- | --- | --- | --- |\n| Feed | 300 | Feed | [L/h] |\n\n## Inputs - plotting specs\n\n| Name | plot | range | stem |\n| --- | --- | --- | --- |\n| Feed | None | [None, None] | None |\n"
     },
     "execution_count": 64,
     "metadata": {},
     "output_type": "execute_result"
    }
   ],
   "execution_count": 64
  },
  {
   "cell_type": "code",
   "id": "4729fbff",
   "metadata": {
    "ExecuteTime": {
     "end_time": "2025-10-08T15:43:51.347108Z",
     "start_time": "2025-10-08T15:43:51.337742Z"
    }
   },
   "source": [
    "parameters = dict(\n",
    "    K_ap = dict(value = 0.5088, min = None, max = None, vary = None, unit = '[g/L]', description = 'Monod-type saturation constant, intracellular acetate production'),\n",
    "    K_sa = dict(value = 0.0128, min = None, max = None, vary = None, unit = '[g/L]', description = 'affinity constant, acetate consumption'),\n",
    "    K_o = dict(value = 0.0001, min = None, max = None, vary = None, unit = '[g/L]', description = 'affinity constant, oxygen consumption'),\n",
    "    K_s = dict(value = 0.0381, min = None, max = None, vary = None, unit = '[g/L]', description = 'affinity constant, substrate consumption'),\n",
    "    K_ia = dict(value = 1.2602, min = None, max = None, vary = None, unit = '[g/L]', description = 'inhibition constant, inhibition of glucose uptake by acetate'),\n",
    "    K_is = dict(value = 1.8383, min = None, max = None, vary = None, unit = '[g/L]', description = 'inhibition constant, inhibition of acetate uptake by glucose'),\n",
    "    p_a_max = dict(value = 0.2286, min = None, max = None, vary = None, unit = '[g/g/h]', description = 'max specific acetate production rate'),\n",
    "    q_a_max = dict(value = 0.1148, min = None, max = None, vary = None, unit = '[g/g/h]', description = 'max specific acetate consumption rate'),\n",
    "    q_m = dict(value = 0.0133, min = None, max = None, vary = None, unit = '[g/g/h]', description = 'specific maintenance coefficient'),\n",
    "    q_s_max = dict(value = 0.635, min = None, max = None, vary = None, unit = '[g/g/h]', description = 'max spec glucose uptake rate'),\n",
    "    Y_as = dict(value = 0.8938, min = None, max = None, vary = None, unit = '[g/g]', description = 'Yield coefficient of Acetate on substrate'),\n",
    "    Y_oa = dict(value = 0.5221, min = None, max = None, vary = None, unit = '[g/g]', description = 'Yield coefficient of oxygen on Acetate'),\n",
    "    Y_xa = dict(value = 0.5794, min = None, max = None, vary = None, unit = '[g/g]', description = 'Yield coefficient of biomass on Acetate'),\n",
    "    Y_em = dict(value = 0.5321, min = None, max = None, vary = None, unit = '[g/g]', description = 'Yield coefficient of biomass exclusive of maintenance'),\n",
    "    Y_os = dict(value = 1.5722, min = None, max = None, vary = None, unit = '[g/g]', description = 'Yield coefficient of oxygen on Substrate'),\n",
    "    Y_xsof = dict(value = 0.229, min = None, max = None, vary = None, unit = '[g/g]', description = 'yield of biomass on substrate from auxiliary overflow routes, such as the mixed acid and pentose-phosphate pathways'),\n",
    ")"
   ],
   "outputs": [],
   "execution_count": 65
  },
  {
   "cell_type": "code",
   "id": "fb456acc-3d05-4c09-b2dd-3be7fcd94b85",
   "metadata": {
    "ExecuteTime": {
     "end_time": "2025-10-08T15:43:51.361398Z",
     "start_time": "2025-10-08T15:43:51.356146Z"
    }
   },
   "source": [
    "# For the Parameters\n",
    "md_output = generate_markdown_table(parameters, 'Parameters')\n",
    "# Display in Jupyter\n",
    "Markdown(md_output)"
   ],
   "outputs": [
    {
     "data": {
      "text/plain": [
       "<IPython.core.display.Markdown object>"
      ],
      "text/markdown": "## Parameters\n\n| name | description | max | min | unit | value | vary |\n| --- | --- | --- | --- | --- | --- | --- |\n| K_ap | Monod-type saturation constant, intracellular acetate production | None | None | [g/L] | 0.5088 | None |\n| K_sa | affinity constant, acetate consumption | None | None | [g/L] | 0.0128 | None |\n| K_o | affinity constant, oxygen consumption | None | None | [g/L] | 0.0001 | None |\n| K_s | affinity constant, substrate consumption | None | None | [g/L] | 0.0381 | None |\n| K_ia | inhibition constant, inhibition of glucose uptake by acetate | None | None | [g/L] | 1.2602 | None |\n| K_is | inhibition constant, inhibition of acetate uptake by glucose | None | None | [g/L] | 1.8383 | None |\n| p_a_max | max specific acetate production rate | None | None | [g/g/h] | 0.2286 | None |\n| q_a_max | max specific acetate consumption rate | None | None | [g/g/h] | 0.1148 | None |\n| q_m | specific maintenance coefficient | None | None | [g/g/h] | 0.0133 | None |\n| q_s_max | max spec glucose uptake rate | None | None | [g/g/h] | 0.635 | None |\n| Y_as | Yield coefficient of Acetate on substrate | None | None | [g/g] | 0.8938 | None |\n| Y_oa | Yield coefficient of oxygen on Acetate | None | None | [g/g] | 0.5221 | None |\n| Y_xa | Yield coefficient of biomass on Acetate | None | None | [g/g] | 0.5794 | None |\n| Y_em | Yield coefficient of biomass exclusive of maintenance | None | None | [g/g] | 0.5321 | None |\n| Y_os | Yield coefficient of oxygen on Substrate | None | None | [g/g] | 1.5722 | None |\n| Y_xsof | yield of biomass on substrate from auxiliary overflow routes, such as the mixed acid and pentose-phosphate pathways | None | None | [g/g] | 0.229 | None |\n"
     },
     "execution_count": 66,
     "metadata": {},
     "output_type": "execute_result"
    }
   ],
   "execution_count": 66
  },
  {
   "cell_type": "code",
   "id": "fe3cebc9",
   "metadata": {
    "ExecuteTime": {
     "end_time": "2025-10-08T15:43:51.378561Z",
     "start_time": "2025-10-08T15:43:51.372924Z"
    }
   },
   "source": [
    "constants = dict(\n",
    "    K_LA = dict(value=220, unit='[1/h]', description='volumetric mass transfer coefficient'),\n",
    "    DOT_star = dict(value=99, unit='[%]', description='saturation value of dissolved oxygen in the medium'),\n",
    "    H = dict(value=14000, unit='[Pa/(mol/m3)]', description='Henry’s law coefficient for oxygen at 37°C'),\n",
    "    tau = dict(value=35, unit='[s]', description='probe response time'),\n",
    "    C_s = dict(value = 0.391, unit = '[mol C/g]', description = 'Carbon content in substrate'),\n",
    "    C_x = dict(value = 0.488, unit = '[mol C/g]', description = 'Carbon content in biomass'),\n",
    "    mu_set = dict(value = 0.222, unit = '[1/h]', description = 'Set specific growth rate'),\n",
    "    Kp = dict(value = ((1/35)*3600), unit = '[1/s]', description = 'static gain of the sensor given as the inverse of the probe response time'),\n",
    "\n",
    ")"
   ],
   "outputs": [],
   "execution_count": 67
  },
  {
   "cell_type": "code",
   "id": "2809e7c5-9c09-4b00-bac9-cf14655c89ae",
   "metadata": {
    "ExecuteTime": {
     "end_time": "2025-10-08T15:43:51.395322Z",
     "start_time": "2025-10-08T15:43:51.390Z"
    }
   },
   "source": [
    "# For the Constants\n",
    "md_output = generate_markdown_table(constants, 'Constants')\n",
    "# Display in Jupyter\n",
    "Markdown(md_output)"
   ],
   "outputs": [
    {
     "data": {
      "text/plain": [
       "<IPython.core.display.Markdown object>"
      ],
      "text/markdown": "## Constants\n\n| name | description | unit | value |\n| --- | --- | --- | --- |\n| K_LA | volumetric mass transfer coefficient | [1/h] | 220 |\n| DOT_star | saturation value of dissolved oxygen in the medium | [%] | 99 |\n| H | Henry’s law coefficient for oxygen at 37°C | [Pa/(mol/m3)] | 14000 |\n| tau | probe response time | [s] | 35 |\n| C_s | Carbon content in substrate | [mol C/g] | 0.391 |\n| C_x | Carbon content in biomass | [mol C/g] | 0.488 |\n| mu_set | Set specific growth rate | [1/h] | 0.222 |\n| Kp | static gain of the sensor given as the inverse of the probe response time | [1/s] | 102.85714285714285 |\n"
     },
     "execution_count": 68,
     "metadata": {},
     "output_type": "execute_result"
    }
   ],
   "execution_count": 68
  },
  {
   "cell_type": "code",
   "id": "84efe496",
   "metadata": {
    "ExecuteTime": {
     "end_time": "2025-10-08T15:43:51.423875Z",
     "start_time": "2025-10-08T15:43:51.419362Z"
    }
   },
   "source": [
    "rates = dict(\n",
    "    q_s = dict(unit = '[g/g/h]', description = 'specific substrate uptake rate'),\n",
    "    q_s_of = dict(unit = '[g/g/h]', description = 'specific substrate uptake rate for overflow'),\n",
    "    q_s_ox = dict(unit = '[g/g/h]', description = 'specific substrate uptake rate for oxygen'),\n",
    "    q_s_ox_an=dict(unit='[g/g/h]', description='specific substrate uptake rate for anabolic part of oxidative metabolism'),\n",
    "    p_a = dict(unit = '[g/g/h]', description = 'specific acetate production rate'),\n",
    "    q_sa = dict(unit = '[g/g/h]', description = 'specific acetate consumption rate'),\n",
    "    q_a = dict(unit = '[g/g/h]', description = 'specific acetate balance rate'),\n",
    "    q_o = dict(unit = '[g/g/h]', description = 'specific oxygen uptake rate'),\n",
    "    my = dict(unit = '[1/h]', description = 'specific growth rate'),\n",
    ")"
   ],
   "outputs": [],
   "execution_count": 69
  },
  {
   "cell_type": "code",
   "id": "ae9b7a4c-5f67-44f4-96f3-00097356165c",
   "metadata": {
    "ExecuteTime": {
     "end_time": "2025-10-08T15:43:51.437651Z",
     "start_time": "2025-10-08T15:43:51.432735Z"
    }
   },
   "source": [
    "# For the Rates\n",
    "md_output = generate_markdown_table(rates, 'Rates')\n",
    "# Display in Jupyter\n",
    "Markdown(md_output)"
   ],
   "outputs": [
    {
     "data": {
      "text/plain": [
       "<IPython.core.display.Markdown object>"
      ],
      "text/markdown": "## Rates\n\n| name | description | unit |\n| --- | --- | --- |\n| q_s | specific substrate uptake rate | [g/g/h] |\n| q_s_of | specific substrate uptake rate for overflow | [g/g/h] |\n| q_s_ox | specific substrate uptake rate for oxygen | [g/g/h] |\n| q_s_ox_an | specific substrate uptake rate for anabolic part of oxidative metabolism | [g/g/h] |\n| p_a | specific acetate production rate | [g/g/h] |\n| q_sa | specific acetate consumption rate | [g/g/h] |\n| q_a | specific acetate balance rate | [g/g/h] |\n| q_o | specific oxygen uptake rate | [g/g/h] |\n| my | specific growth rate | [1/h] |\n"
     },
     "execution_count": 70,
     "metadata": {},
     "output_type": "execute_result"
    }
   ],
   "execution_count": 70
  },
  {
   "cell_type": "code",
   "id": "b5c9bc85",
   "metadata": {
    "ExecuteTime": {
     "end_time": "2025-10-08T15:43:51.459636Z",
     "start_time": "2025-10-08T15:43:51.448393Z"
    }
   },
   "source": [
    "# Equations\n",
    "def algebra(x, t):\n",
    "\n",
    "\n",
    "    '''------------------- generated variables -------------------'''\n",
    "\n",
    "    X = x[0]    # Biomass\n",
    "    S = x[1]    # extracellular concentration of Substrate\n",
    "    A = x[2]    # Acetate\n",
    "    V = x[3]    # Volume of the Medium in the Reactor\n",
    "    DOTa = x[4]    # actual dissolved oxygen tension\n",
    "    DOT = x[5]    # measured dissolved oxygen tension\n",
    "\n",
    "    '''------------------- generated parameters -------------------'''\n",
    "\n",
    "    K_ap = parameters['K_ap']['value']    # Monod-type saturation constant, intracellular acetate production\n",
    "    K_sa = parameters['K_sa']['value']    # affinity constant, acetate consumption\n",
    "    K_o = parameters['K_o']['value']    # affinity constant, oxygen consumption\n",
    "    K_s = parameters['K_s']['value']    # affinity constant, substrate consumption\n",
    "    K_ia = parameters['K_ia']['value']    # inhibition constant, inhibition of glucose uptake by acetate\n",
    "    K_is = parameters['K_is']['value']    # inhibition constant, inhibition of acetate uptake by glucose\n",
    "    p_a_max = parameters['p_a_max']['value']    # max specific acetate production rate\n",
    "    q_a_max = parameters['q_a_max']['value']    # max specific acetate consumption rate\n",
    "    q_m = parameters['q_m']['value']    # specific maintenance coefficient\n",
    "    q_s_max = parameters['q_s_max']['value']    # max spec glucose uptake rate\n",
    "    Y_as = parameters['Y_as']['value']    # Yield coefficient of Acetate on substrate\n",
    "    Y_oa = parameters['Y_oa']['value']    # Yield coefficient of oxygen on Acetate\n",
    "    Y_xa = parameters['Y_xa']['value']    # Yield coefficient of biomass on Acetate\n",
    "    Y_em = parameters['Y_em']['value']    # Yield coefficient of biomass exclusive of maintenance\n",
    "    Y_os = parameters['Y_os']['value']    # Yield coefficient of oxygen on Substrate\n",
    "    Y_xsof = parameters['Y_xsof']['value']    # yield of biomass on substrate from auxiliary overflow routes, such as the mixed acid and pentose-phosphate pathways\n",
    "\n",
    "    '''------------------- generated constants -------------------'''\n",
    "\n",
    "    K_LA = constants['K_LA']['value']    # volumetric mass transfer coefficient\n",
    "    DOT_star = constants['DOT_star']['value']    # saturation value of dissolved oxygen in the medium\n",
    "    H = constants['H']['value']    # Henry’s law coefficient\n",
    "    tau = constants['tau']['value']    # probe response time\n",
    "    C_s = constants['C_s']['value']    # Carbon content in substrate\n",
    "    C_x = constants['C_x']['value']    # Carbon content in biomass\n",
    "    mu_set = constants['mu_set']['value'] # set specific growth rate\n",
    "    Kp = constants['Kp']['value']      # static gain of the sensor given as the inverse of the probe response time\n",
    "\n",
    "    '''------------------- feed options  -------------------'''\n",
    "\n",
    "\n",
    "\n",
    "    #use S_feed as your feed concentration in your Formulas\n",
    "    S_feed = inputs['Feed']['concentration']\n",
    "\n",
    "    if feed.batch:\n",
    "        pass # put here the things that should happen while we dont feed\n",
    "    if feed.feeding_first:\n",
    "        pass # put here the things that should happen when feeding starts (will happen only once)\n",
    "        # delete this if not needed but remember!: you can call with feed.ts the time when the feed started and with feed.X_fedbatch_start the Biomass at the moment of feed start\n",
    "    if feed.feeding_exp:\n",
    "        pass # put here something that should happen while we feed\n",
    "    if feed.feeding_const:\n",
    "        pass # put here something that should happen while we induce\n",
    "\n",
    "    '''------------------- put here your equations  -------------------'''\n",
    "\n",
    "    q_s = (q_s_max / (1 + (A / K_ia)) * S / (S + K_s)) # put here your equation to calculate q_s (specific substrate uptake rate)\n",
    "    q_s_of = p_a_max * (q_s / (q_s + K_ap)) # put here your equation to calculate q_s_of (specific substrate uptake rate for overflow)\n",
    "    q_s_ox = (q_s - q_s_of) * (DOTa / (DOTa + K_o)) # put here your equation to calculate q_s_ox (specific substrate uptake rate for oxygen)\n",
    "    q_s_an = (q_s_ox - q_m) * Y_em * C_x / C_s\n",
    "    p_a = q_s_of * Y_as # put here your equation to calculate p_a (specific acetate production rate)\n",
    "    q_sa = (q_a_max / (1 + (q_s / K_is))) * (A / (A + K_sa)) # put here your equation to calculate q_sa (specific acetate consumption rate)\n",
    "    q_a = p_a - q_sa # put here your equation to calculate q_a (specific acetate balance rate)\n",
    "    q_o = (q_s_ox - q_s_an) * Y_os + q_sa * Y_oa # put here your equation to calculate q_o (specific oxygen uptake rate)\n",
    "    my = (q_s_ox - q_m) * Y_em + q_s_of * Y_xsof + q_sa * Y_xa # put here your equation to calculate my (specific growth rate)\n",
    "\n",
    "    # remeber to add the variables you want to plot and need for your differential equations that are not rates\n",
    "    return {\n",
    "    'q_s': q_s,    'q_s_of': q_s_of,    'q_s_ox': q_s_ox, 'q_s_an': q_s_an,    'p_a': p_a,    'q_sa': q_sa,\n",
    "    'q_a': q_a,    'q_o': q_o,    'my': my,\n",
    "           }"
   ],
   "outputs": [],
   "execution_count": 71
  },
  {
   "cell_type": "code",
   "id": "076feb6a",
   "metadata": {
    "ExecuteTime": {
     "end_time": "2025-10-08T15:43:51.478811Z",
     "start_time": "2025-10-08T15:43:51.466265Z"
    }
   },
   "source": [
    "# Function for the hole Model\n",
    "def dif_simple(x, t):\n",
    "\n",
    "\n",
    "\n",
    "\n",
    "    '''------------------- generated variables -------------------'''\n",
    "\n",
    "    X = x[0]    # Biomass\n",
    "    S = x[1]    # extracellular concentration of Substrate\n",
    "    A = x[2]    # Acetate\n",
    "    V = x[3]    # Volume of the Medium in the Reactor\n",
    "    DOTa = x[4]    # actual dissolved oxygen tension\n",
    "    DOT = x[5]    # measured dissolved oxygen tension\n",
    "\n",
    "    '''------------------- generated parameters -------------------'''\n",
    "\n",
    "    K_ap = parameters['K_ap']['value']    # Monod-type saturation constant, intracellular acetate production\n",
    "    K_sa = parameters['K_sa']['value']    # affinity constant, acetate consumption\n",
    "    K_o = parameters['K_o']['value']    # affinity constant, oxygen consumption\n",
    "    K_s = parameters['K_s']['value']    # affinity constant, substrate consumption\n",
    "    K_ia = parameters['K_ia']['value']    # inhibition constant, inhibition of glucose uptake by acetate\n",
    "    K_is = parameters['K_is']['value']    # inhibition constant, inhibition of acetate uptake by glucose\n",
    "    p_a_max = parameters['p_a_max']['value']    # max specific acetate production rate\n",
    "    q_a_max = parameters['q_a_max']['value']    # max specific acetate consumption rate\n",
    "    q_m = parameters['q_m']['value']    # specific maintenance coefficient\n",
    "    q_s_max = parameters['q_s_max']['value']    # max spec glucose uptake rate\n",
    "    Y_as = parameters['Y_as']['value']    # Yield coefficient of Acetate on substrate\n",
    "    Y_oa = parameters['Y_oa']['value']    # Yield coefficient of oxygen on Acetate\n",
    "    Y_xa = parameters['Y_xa']['value']    # Yield coefficient of biomass on Acetate\n",
    "    Y_em = parameters['Y_em']['value']    # Yield coefficient of biomass exclusive of maintenance\n",
    "    Y_os = parameters['Y_os']['value']    # Yield coefficient of oxygen on Substrate\n",
    "    Y_xsof = parameters['Y_xsof']['value']    # yield of biomass on substrate from auxiliary overflow routes, such as the mixed acid and pentose-phosphate pathways\n",
    "\n",
    "    '''------------------- generated constants -------------------'''\n",
    "\n",
    "    K_LA = constants['K_LA']['value']    # volumetric mass transfer coefficient\n",
    "    DOT_star = constants['DOT_star']['value']    # saturation value of dissolved oxygen in the medium\n",
    "    H = constants['H']['value']    # Henry’s law coefficient\n",
    "    tau = constants['tau']['value']    # probe response time\n",
    "    C_s = constants['C_s']['value']    # Carbon content in substrate\n",
    "    C_x = constants['C_x']['value']    # Carbon content in biomass\n",
    "    mu_set = constants['mu_set']['value'] # set specific growth rate\n",
    "    Kp = constants['Kp']['value']      # static gain of the sensor given as the inverse of the probe response time\n",
    "\n",
    "    rs = algebra(x, t)\n",
    "\n",
    "    '''------------------- generated rates -------------------'''\n",
    "\n",
    "    q_s = rs['q_s']    #specific substrate uptake rate\n",
    "    q_s_of = rs['q_s_of']    #specific substrate uptake rate for overflow\n",
    "    q_s_ox = rs['q_s_ox']    #specific substrate uptake rate for oxygen\n",
    "    p_a = rs['p_a']    #specific acetate production rate\n",
    "    q_sa = rs['q_sa']    #specific acetate consumption rate\n",
    "    q_a = rs['q_a']    #specific acetate balance rate\n",
    "    q_o = rs['q_o']    #specific oxygen uptake rate\n",
    "    my = rs['my']    #specific growth rate\n",
    "\n",
    "\n",
    "    '''------------------- feed options  -------------------'''\n",
    "\n",
    "    feed.get(t, S, X)    # S and X are the variables for Substrate and Biomass change them if needed\n",
    "\n",
    "    F0 = 0.145*60/1000 # beginning of feed\n",
    "\n",
    "    #use S_feed as your feed concentration in your Formulas\n",
    "    S_feed = inputs['Feed']['concentration']\n",
    "\n",
    "    V0 = variables['Volume']['initial_value'] # import V0 as initial volume\n",
    "    # this is an optional feature you can  use if you want some changes depending on the feeding state\n",
    "    if feed.batch:\n",
    "        # put here the things that should happen while we dont feed\n",
    "        F = 0\n",
    "    if feed.feeding_first:\n",
    "        # put here the things that should happen when feeding starts (will happen only once)\n",
    "        pass # delete this if not needed but remember!: you can call with feed.ts the time when the feed started and with feed.X_fedbatch_start the Biomass at the moment of feed start\n",
    "    if feed.feeding_exp:        \n",
    "        F = F0 * exp(mu_set * (t - feed.ts))\n",
    "    if feed.feeding_const:\n",
    "        F = 0.188 #put here your induction equation(s)\n",
    "    '''------------------- put here your differential equations -------------------'''\n",
    "\n",
    "    dXdt = -X * F / V + my * X #write here the right hand side of the differential equation of X\n",
    "    dSdt = F / V * (S_feed - S) - q_s * X #write here the right hand side of the differential equation of S\n",
    "    dAdt = - A * F / V + q_a * X #write here the right hand side of the differential equation of A\n",
    "    dVdt = F #write here the right hand side of the differential equation of V\n",
    "    dDOTadt = K_LA * (DOT_star - DOTa) - q_o * H * X #write here the right hand side of the differential equation of DOTa\n",
    "    dDOTdt = Kp * (DOTa - DOT) #write here the right hand side of the differential equation of DOT\n",
    "\n",
    "    #this will be used by odeint\n",
    "    dxdt = [dXdt, dSdt, dAdt, dVdt, dDOTadt, dDOTdt]\n",
    "    return dxdt"
   ],
   "outputs": [],
   "execution_count": 72
  },
  {
   "cell_type": "code",
   "id": "50789f10",
   "metadata": {
    "ExecuteTime": {
     "end_time": "2025-10-08T15:43:51.501712Z",
     "start_time": "2025-10-08T15:43:51.486796Z"
    }
   },
   "source": [
    "# Define initial conditions and make a test run to estimate the feed start\n",
    "x0 = [variables['Biomass']['initial_value'], variables['Substrate']['initial_value'], variables['Acetate']['initial_value'],variables['Volume']['initial_value'], variables['DOTa']['initial_value'], variables['DOT']['initial_value']]\n",
    "\n",
    "x = odeint(dif_simple, x0, t)\n",
    "# Print the feed start time once\n",
    "print('Feed started at:', feed.ts)"
   ],
   "outputs": [
    {
     "name": "stdout",
     "output_type": "stream",
     "text": [
      "Feed started at: None\n"
     ]
    }
   ],
   "execution_count": 73
  },
  {
   "cell_type": "code",
   "id": "53c6b693-23ca-4a57-a79e-075b8347893d",
   "metadata": {
    "ExecuteTime": {
     "end_time": "2025-10-08T15:43:51.522002Z",
     "start_time": "2025-10-08T15:43:51.508460Z"
    }
   },
   "source": [
    "# Actual integration phase by phase for more smoothness\n",
    "\n",
    "if feed.t_const is None and feed.t_fedbatch_start is None and feed.substrate_limit is None:\n",
    "    mode = 'Mode: Batch only'\n",
    "elif feed.t_const is not None and feed.t_fedbatch_start is None and feed.substrate_limit is None:\n",
    "    t_1 = np.linspace(t0, t_constant_feed, int(t_constant_feed/dt)+1)\n",
    "    t_2 = np.linspace(t_constant_feed, t_end, int((t_end - t_constant_feed)/dt)+1)\n",
    "    feed = cfb.Feed(t_const = t_constant_feed)\n",
    "    x_1 = odeint(dif_simple, x0, t_1)\n",
    "    x_2 = odeint(dif_simple, x_1[-1], t_2)\n",
    "    x = np.vstack((x_1[:-1], x_2))\n",
    "    mode = 'Mode: Constant feed only'\n",
    "elif feed.t_const is None and feed.t_fedbatch_start is not None and feed.substrate_limit is None:\n",
    "    t_1 = np.linspace(t0, t_fedbatch_start, int(t_fedbatch_start/dt)+1)\n",
    "    t_2 = np.linspace(t_fedbatch_start, t_end, int((t_end - t_fedbatch_start)/dt)+1)\n",
    "    feed = cfb.Feed(t_fedbatch_start = t_fedbatch_start)\n",
    "    x_1 = odeint(dif_simple, x0, t_1)\n",
    "    x_2 = odeint(dif_simple, x_1[-1], t_2)\n",
    "    x = np.vstack((x_1[:-1], x_2))\n",
    "    mode = 'Mode: Fedbatch only (start by time)'\n",
    "elif feed.t_const is None and feed.t_fedbatch_start is None and feed.substrate_limit is not None:\n",
    "    t_1 = np.linspace(t0, feed.ts, int(feed.ts/dt)+1)\n",
    "    t_2 = np.linspace(feed.ts, t_end, int((t_end - feed.ts)/dt)+1)\n",
    "    feed = cfb.Feed(substrate_limit = substrate_limit_fedbatch)\n",
    "    x_1 = odeint(dif_simple, x0, t_1)\n",
    "    x_2 = odeint(dif_simple, x_1[-1], t_2)\n",
    "    x = np.vstack((x_1[:-1], x_2))\n",
    "    mode = 'Mode: Fedbatch only (start by substrate limit)'\n",
    "elif feed.t_const is not None and feed.t_fedbatch_start is not None and feed.substrate_limit is None:\n",
    "    t_1 = np.linspace(t0, t_fedbatch_start, int(t_fedbatch_start/dt)+1)\n",
    "    t_2 = np.linspace(t_fedbatch_start, t_constant_feed, int((t_constant_feed - t_fedbatch_start)/dt)+1)\n",
    "    t_3 = np.linspace(t_constant_feed, t_end, int((t_end - t_constant_feed)/dt)+1)\n",
    "    feed = cfb.Feed(t_const = t_constant_feed, t_fedbatch_start = t_fedbatch_start)\n",
    "    x_1 = odeint(dif_simple, x0, t_1)\n",
    "    x_2 = odeint(dif_simple, x_1[-1], t_2)\n",
    "    x_3 = odeint(dif_simple, x_2[-1], t_3)\n",
    "    x = np.vstack((x_1[:-1], x_2[:-1], x_3))\n",
    "    mode = 'Mode: Const. feed + fedbatch (by time)'\n",
    "elif feed.t_const is not None and feed.t_fedbatch_start is None and feed.substrate_limit is not None:\n",
    "    t_1 = np.linspace(t0, feed.ts, int(feed.ts/dt)+1)\n",
    "    t_2 = np.linspace(feed.ts, t_constant_feed, int((t_constant_feed - feed.ts)/dt)+1)\n",
    "    t_3 = np.linspace(t_constant_feed, t_end, int((t_end - t_constant_feed)/dt)+1)\n",
    "    feed = cfb.Feed(t_const = t_constant_feed, substrate_limit = substrate_limit_fedbatch)\n",
    "    x_1 = odeint(dif_simple, x0, t_1)\n",
    "    x_2 = odeint(dif_simple, x_1[-1], t_2)\n",
    "    x_3 = odeint(dif_simple, x_2[-1], t_3)\n",
    "    x = np.vstack((x_1[:-1], x_2[:-1], x_3))\n",
    "    mode = 'Mode: Const. feed + fedbatch (by substrate)'\n",
    "elif feed.t_const is None and feed.t_fedbatch_start is not None and feed.substrate_limit is not None:\n",
    "    t_1 = np.linspace(t0, feed.ts, int(feed.ts/dt)+1)\n",
    "    t_2 = np.linspace(feed.ts, t_end, int((t_end - feed.ts)/dt)+1)\n",
    "    feed = cfb.Feed(t_fedbatch_start = t_fedbatch_start, substrate_limit = substrate_limit_fedbatch)\n",
    "    x_1 = odeint(dif_simple, x0, t_1)\n",
    "    x_2 = odeint(dif_simple, x_1[-1], t_2)\n",
    "    x = np.vstack((x_1[:-1], x_2))\n",
    "    mode = 'Mode: Fedbatch (start by time or substrate)'\n",
    "elif feed.t_const is not None and feed.t_fedbatch_start is not None and feed.substrate_limit is not None:\n",
    "    t_1 = np.linspace(t0, feed.ts, int(feed.ts/dt)+1)\n",
    "    t_2 = np.linspace(feed.ts, t_constant_feed, int((t_constant_feed - feed.ts)/dt)+1)\n",
    "    t_3 = np.linspace(t_constant_feed, t_end, int((t_end - t_constant_feed)/dt)+1)\n",
    "    feed = cfb.Feed(t_const = t_constant_feed, t_fedbatch_start = t_fedbatch_start, substrate_limit = substrate_limit_fedbatch)\n",
    "    x_1 = odeint(dif_simple, x0, t_1)\n",
    "    x_2 = odeint(dif_simple, x_1[-1], t_2)\n",
    "    x_3 = odeint(dif_simple, x_2[-1], t_3)\n",
    "    x = np.vstack((x_1[:-1], x_2[:-1], x_3))\n",
    "    mode = 'Mode: Const. feed + fedbatch (start by time or substrate)'\n",
    "print(mode)"
   ],
   "outputs": [
    {
     "name": "stdout",
     "output_type": "stream",
     "text": [
      "Mode: Batch only\n"
     ]
    }
   ],
   "execution_count": 74
  },
  {
   "cell_type": "code",
   "id": "0f6ffbd7",
   "metadata": {
    "ExecuteTime": {
     "end_time": "2025-10-08T15:43:51.548657Z",
     "start_time": "2025-10-08T15:43:51.530196Z"
    }
   },
   "source": [
    "'''Here all the metabolic fluxes that will be plotet wil be added to x '''\n",
    "algebra_results = []    #just to initiate the variable\n",
    "\n",
    "# Iterate over time steps to access individual values\n",
    "for state_vector, time_point in zip(x, t):\n",
    "    #if you calculate the oxygen consumption rate calculate it here, because its not a differential equation\n",
    "    X, S, A, V, DOTa, DOT = state_vector\n",
    "    results = algebra(state_vector, time_point)\n",
    "    algebra_results.append([\n",
    "        results['q_s'],\n",
    "        results['q_s_of'],\n",
    "        results['q_s_ox'],\n",
    "        results['q_s_an'],\n",
    "        results['p_a'],\n",
    "        results['q_sa'],\n",
    "        results['q_a'],\n",
    "        results['q_o'],\n",
    "        results['my'],\n",
    "    ])\n",
    "\n",
    "#combine everything in x\n",
    "algebra_array = np.array(algebra_results)\n",
    "x_and_rs = np.hstack((x, algebra_array))"
   ],
   "outputs": [],
   "execution_count": 75
  },
  {
   "cell_type": "code",
   "id": "9a0359c4",
   "metadata": {
    "ExecuteTime": {
     "end_time": "2025-10-08T16:00:03.764111Z",
     "start_time": "2025-10-08T16:00:03.751803Z"
    }
   },
   "source": [
    "# Initializing the allthedata dictionary\n",
    "\n",
    "if feed.t_const is None and feed.t_fedbatch_start is None and feed.substrate_limit is None:\n",
    "    builder = catd.AllthedataBuilder(variables, inputs, rates, x_and_rs, t)\n",
    "elif feed.t_const is not None and feed.t_fedbatch_start is None and feed.substrate_limit is None:\n",
    "    builder = catd.AllthedataBuilder(variables, inputs, rates, x_and_rs, t, t_constant_feed = t_2)\n",
    "elif feed.t_const is None and feed.t_fedbatch_start is not None and feed.substrate_limit is None:\n",
    "    builder = catd.AllthedataBuilder(variables, inputs, rates, x_and_rs, t, t_2)\n",
    "elif feed.t_const is None and feed.t_fedbatch_start is None and feed.substrate_limit is not None:\n",
    "    builder = catd.AllthedataBuilder(variables, inputs, rates, x_and_rs, t, t_2)\n",
    "elif feed.t_const is not None and feed.t_fedbatch_start is not None and feed.substrate_limit is None:\n",
    "    builder = catd.AllthedataBuilder(variables, inputs, rates, x_and_rs, t, t_2, t_3)\n",
    "elif feed.t_const is not None and feed.t_fedbatch_start is None and feed.substrate_limit is not None:\n",
    "    builder = catd.AllthedataBuilder(variables, inputs, rates, x_and_rs, t, t_2, t_3)\n",
    "elif feed.t_const is None and feed.t_fedbatch_start is not None and feed.substrate_limit is not None:\n",
    "    builder = catd.AllthedataBuilder(variables, inputs, rates, x_and_rs, t, t_2)\n",
    "elif feed.t_const is not None and feed.t_fedbatch_start is not None and feed.substrate_limit is not None:\n",
    "    builder = catd.AllthedataBuilder(variables, inputs, rates, x_and_rs, t, t_2, t_3)\n",
    "\n",
    "allthedata = builder.build()"
   ],
   "outputs": [],
   "execution_count": 79
  },
  {
   "cell_type": "code",
   "id": "bddc7b68",
   "metadata": {
    "ExecuteTime": {
     "end_time": "2025-10-08T15:49:54.244424Z",
     "start_time": "2025-10-08T15:49:53.825135Z"
    }
   },
   "source": [
    "path_to_results, datestring, run_id = builder.init_saving(1, 1, os.path.join(os.getcwdb().decode('utf-8'), 'Anane_results'), None)\n",
    "allthedata_plot = {\"1\": allthedata}\n",
    "plot = cplt.PlotPlotly(\n",
    "    allthedata_plot,\n",
    "    path_to_results,\n",
    "    plot_info=f\"{datestring}_{run_id}\",\n",
    "    plot_mode=\"white_w_grid\",\n",
    "    colorscheme=\"matlab_default\",\n",
    "    plot_formats=(\"html\")\n",
    ")\n",
    "plot.use_column_title = True\n",
    "plot.plot_height_multiple_rows = 1000  # default is 200, increase for bigger plots\n",
    "plot.plot_height_one_row = 600  # default is 225\n",
    "plot.plot_by_expID(\n",
    "    plot_replicates=False,\n",
    "    show_legend=False,\n",
    "    plot_SE_data=False,\n",
    "    split_at_feed_start=False,\n",
    "    range_end=None,\n",
    "    plot_DOT_actual = True, # important for plotting DOTa\n",
    "    plot_multiple_list=[\n",
    "        dict(members=[\"Biomass\", \"Substrate\"], axes=[\"left\", \"right\"])\n",
    "    ]\n",
    ")"
   ],
   "outputs": [
    {
     "name": "stdout",
     "output_type": "stream",
     "text": [
      "Results are saved here: C:\\Users\\matdf\\Documents\\Bachelorarbeit\\git_tub\\e-coli-model-overview\\Library_of_models\\ecoli_2017_Anane_Acetate_cycling\\Template_Example_results\\20251008_17-49-53_1\n"
     ]
    }
   ],
   "execution_count": 78
  },
  {
   "metadata": {
    "ExecuteTime": {
     "end_time": "2025-10-08T15:43:51.982570Z",
     "start_time": "2025-10-08T15:43:51.974525Z"
    }
   },
   "cell_type": "code",
   "source": "",
   "id": "24d64c499eff8681",
   "outputs": [],
   "execution_count": null
  }
 ],
 "metadata": {
  "kernelspec": {
   "display_name": "Python (env_py312)",
   "language": "python",
   "name": "env_py312"
  },
  "language_info": {
   "codemirror_mode": {
    "name": "ipython",
    "version": 3
   },
   "file_extension": ".py",
   "mimetype": "text/x-python",
   "name": "python",
   "nbconvert_exporter": "python",
   "pygments_lexer": "ipython3",
   "version": "3.12.7"
  }
 },
 "nbformat": 4,
 "nbformat_minor": 5
}
